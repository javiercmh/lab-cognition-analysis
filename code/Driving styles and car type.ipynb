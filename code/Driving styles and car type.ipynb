{
 "cells": [
  {
   "cell_type": "markdown",
   "metadata": {},
   "source": [
    "# Driving styles and car type"
   ]
  },
  {
   "cell_type": "code",
   "execution_count": 1,
   "metadata": {},
   "outputs": [],
   "source": [
    "import os\n",
    "os.chdir('../data')"
   ]
  },
  {
   "cell_type": "code",
   "execution_count": 2,
   "metadata": {},
   "outputs": [],
   "source": [
    "import scipy\n",
    "import numpy as np\n",
    "import pandas as pd\n",
    "import pingouin as pg\n",
    "import matplotlib.pyplot as plt\n",
    "from statsmodels.stats.anova import AnovaRM"
   ]
  },
  {
   "cell_type": "code",
   "execution_count": 26,
   "metadata": {},
   "outputs": [],
   "source": [
    "driving_data = pd.read_csv(\"input/results-survey528393.csv\")"
   ]
  },
  {
   "cell_type": "code",
   "execution_count": 27,
   "metadata": {},
   "outputs": [
    {
     "name": "stdout",
     "output_type": "stream",
     "text": [
      "Driving data (43, 334)\n"
     ]
    }
   ],
   "source": [
    "print(\"Driving data\", driving_data.shape)"
   ]
  },
  {
   "cell_type": "code",
   "execution_count": 28,
   "metadata": {},
   "outputs": [
    {
     "data": {
      "text/plain": [
       "2    15\n",
       "1    15\n",
       "3    13\n",
       "Name: condition, dtype: int64"
      ]
     },
     "execution_count": 28,
     "metadata": {},
     "output_type": "execute_result"
    }
   ],
   "source": [
    "driving_data[\"condition\"].value_counts()"
   ]
  },
  {
   "cell_type": "markdown",
   "metadata": {},
   "source": [
    "## Preprocessing\n",
    "\n",
    "Get results from the driving style scale that each participant responded.\n",
    "\n",
    "**TODO**: maybe group all agg and all def. Then group all fam and sports."
   ]
  },
  {
   "cell_type": "code",
   "execution_count": 29,
   "metadata": {},
   "outputs": [],
   "source": [
    "# group column names of aggressive and defensive conditions.\n",
    "aggressive = driving_data.columns[driving_data.columns.str.fullmatch(\"agg[^2]+\\[SQ00[1-2]\\]\")]\n",
    "aggressive2 = driving_data.columns[driving_data.columns.str.fullmatch(\"agg.+2\\[SQ00[1-2]\\]\")]\n",
    "\n",
    "defensive = driving_data.columns[driving_data.columns.str.fullmatch(\"def[^2]+\\[SQ00[1-2]\\]\")]\n",
    "defensive2 = driving_data.columns[driving_data.columns.str.fullmatch(\"def.+2\\[SQ00[1-2]\\]\")]"
   ]
  },
  {
   "cell_type": "code",
   "execution_count": 30,
   "metadata": {},
   "outputs": [
    {
     "data": {
      "text/plain": [
       "Index(['aggpassenger[SQ001]', 'aggpassenger[SQ002]', 'aggdriver[SQ001]',\n",
       "       'aggdriver[SQ002]', 'aggrural[SQ001]', 'aggrural[SQ002]',\n",
       "       'aggurban[SQ001]', 'aggurban[SQ002]', 'aggfamily[SQ001]',\n",
       "       'aggfamily[SQ002]', 'aggsports[SQ001]', 'aggsports[SQ002]'],\n",
       "      dtype='object')"
      ]
     },
     "execution_count": 30,
     "metadata": {},
     "output_type": "execute_result"
    }
   ],
   "source": [
    "aggressive"
   ]
  },
  {
   "cell_type": "code",
   "execution_count": 31,
   "metadata": {},
   "outputs": [],
   "source": [
    "driving_data.loc[:, \"aggmean\"] = driving_data.loc[:, aggressive].mean(axis=1)\n",
    "driving_data.loc[:, \"aggmean2\"] = driving_data.loc[:, aggressive2].mean(axis=1)\n",
    "driving_data.loc[:, \"defmean\"] = driving_data.loc[:, defensive].mean(axis=1)\n",
    "driving_data.loc[:, \"defmean2\"] = driving_data.loc[:, defensive2].mean(axis=1)\n",
    "\n",
    "driving_data.loc[:, \"aggressive\"] = driving_data.loc[:, [\"aggmean\", \"aggmean2\"]].mean(axis=1)    # it is called \"assertive\" in Yusof's paper.\n",
    "driving_data.loc[:, \"defensive\"] = driving_data.loc[:, [\"defmean\", \"defmean2\"]].mean(axis=1)"
   ]
  },
  {
   "cell_type": "code",
   "execution_count": 32,
   "metadata": {},
   "outputs": [],
   "source": [
    "# split car types\n",
    "family = driving_data.columns[driving_data.columns.str.fullmatch(\"(agg|def)fam[^2]+\\[SQ00[1-2]\\]\")]\n",
    "sports = driving_data.columns[driving_data.columns.str.fullmatch(\"(agg|def)sports[^2]+\\[SQ00[1-2]\\]\")]"
   ]
  },
  {
   "cell_type": "code",
   "execution_count": 33,
   "metadata": {},
   "outputs": [],
   "source": [
    "# keep only condition = 3, which explores car type\n",
    "car_type_data = driving_data[driving_data[\"condition\"] == 3]\n",
    "\n",
    "# drop irrelevant columns\n",
    "car_type_data = car_type_data.dropna(axis=1, how=\"all\")\n"
   ]
  },
  {
   "cell_type": "code",
   "execution_count": 34,
   "metadata": {},
   "outputs": [],
   "source": [
    "driving_data.to_pickle(\"working/driving_data.pkl\")\n",
    "car_type_data.to_pickle(\"working/car_type_data.pkl\")\n"
   ]
  },
  {
   "cell_type": "markdown",
   "metadata": {},
   "source": [
    "## Descriptive statistics"
   ]
  },
  {
   "cell_type": "code",
   "execution_count": 35,
   "metadata": {},
   "outputs": [],
   "source": [
    "descriptive_columns = [\n",
    "    \"drivingxpcat\",     # driving in the last 12 months\n",
    "    \"educationyears\",\n",
    "    \"age\",\n",
    "    \"gender\",\n",
    "    \"drivingxp\",        # years of experience driving cars\n",
    "    \"educationlevel\",\n",
    "]"
   ]
  },
  {
   "cell_type": "code",
   "execution_count": 36,
   "metadata": {},
   "outputs": [],
   "source": [
    "driving_descriptive_data = driving_data[descriptive_columns]\n",
    "car_type_descriptive_data = car_type_data[descriptive_columns]"
   ]
  },
  {
   "cell_type": "code",
   "execution_count": 37,
   "metadata": {},
   "outputs": [
    {
     "data": {
      "text/plain": [
       "(13, 6)"
      ]
     },
     "execution_count": 37,
     "metadata": {},
     "output_type": "execute_result"
    }
   ],
   "source": [
    "car_type_descriptive_data.shape"
   ]
  },
  {
   "cell_type": "markdown",
   "metadata": {},
   "source": [
    "### Whole data"
   ]
  },
  {
   "cell_type": "code",
   "execution_count": 38,
   "metadata": {},
   "outputs": [
    {
     "name": "stdout",
     "output_type": "stream",
     "text": [
      "Driving descriptive data (43, 6) \n",
      "\n",
      "Almost daily.              0.418605\n",
      "Once a week.               0.232558\n",
      "Less than once a month.    0.162791\n",
      "Not at all.                0.139535\n",
      "Once a month.              0.046512\n",
      "Name: drivingxpcat, dtype: float64 \n",
      "\n",
      "Female               0.581395\n",
      "Male                 0.372093\n",
      "Prefer not to say    0.046512\n",
      "Name: gender, dtype: float64 \n",
      "\n",
      "Bachelor degree                                                         0.534884\n",
      "Masters/Diploma degree                                                  0.209302\n",
      "University entrance school qualification, e.g. Abitur/Hochschulreife    0.093023\n",
      "Doctoral degree                                                         0.093023\n",
      "Vocational training/Berufsausbildung                                    0.069767\n",
      "Name: educationlevel, dtype: float64 \n",
      "\n"
     ]
    }
   ],
   "source": [
    "print(\"Driving descriptive data\", driving_descriptive_data.shape, \"\\n\")\n",
    "for nominal_column in [\"drivingxpcat\", \"gender\", \"educationlevel\"]:\n",
    "    print(driving_descriptive_data[nominal_column].value_counts(normalize=True), \"\\n\")"
   ]
  },
  {
   "cell_type": "code",
   "execution_count": 39,
   "metadata": {},
   "outputs": [
    {
     "data": {
      "text/html": [
       "<div>\n",
       "<style scoped>\n",
       "    .dataframe tbody tr th:only-of-type {\n",
       "        vertical-align: middle;\n",
       "    }\n",
       "\n",
       "    .dataframe tbody tr th {\n",
       "        vertical-align: top;\n",
       "    }\n",
       "\n",
       "    .dataframe thead th {\n",
       "        text-align: right;\n",
       "    }\n",
       "</style>\n",
       "<table border=\"1\" class=\"dataframe\">\n",
       "  <thead>\n",
       "    <tr style=\"text-align: right;\">\n",
       "      <th></th>\n",
       "      <th>educationyears</th>\n",
       "      <th>age</th>\n",
       "      <th>drivingxp</th>\n",
       "    </tr>\n",
       "  </thead>\n",
       "  <tbody>\n",
       "    <tr>\n",
       "      <th>count</th>\n",
       "      <td>43.000000</td>\n",
       "      <td>41.000000</td>\n",
       "      <td>43.000000</td>\n",
       "    </tr>\n",
       "    <tr>\n",
       "      <th>mean</th>\n",
       "      <td>18.279070</td>\n",
       "      <td>31.512195</td>\n",
       "      <td>12.767442</td>\n",
       "    </tr>\n",
       "    <tr>\n",
       "      <th>std</th>\n",
       "      <td>3.627446</td>\n",
       "      <td>11.225244</td>\n",
       "      <td>11.757140</td>\n",
       "    </tr>\n",
       "    <tr>\n",
       "      <th>min</th>\n",
       "      <td>9.000000</td>\n",
       "      <td>21.000000</td>\n",
       "      <td>1.000000</td>\n",
       "    </tr>\n",
       "    <tr>\n",
       "      <th>25%</th>\n",
       "      <td>16.000000</td>\n",
       "      <td>25.000000</td>\n",
       "      <td>5.000000</td>\n",
       "    </tr>\n",
       "    <tr>\n",
       "      <th>50%</th>\n",
       "      <td>18.000000</td>\n",
       "      <td>27.000000</td>\n",
       "      <td>10.000000</td>\n",
       "    </tr>\n",
       "    <tr>\n",
       "      <th>75%</th>\n",
       "      <td>20.000000</td>\n",
       "      <td>32.000000</td>\n",
       "      <td>15.000000</td>\n",
       "    </tr>\n",
       "    <tr>\n",
       "      <th>max</th>\n",
       "      <td>30.000000</td>\n",
       "      <td>63.000000</td>\n",
       "      <td>46.000000</td>\n",
       "    </tr>\n",
       "  </tbody>\n",
       "</table>\n",
       "</div>"
      ],
      "text/plain": [
       "       educationyears        age  drivingxp\n",
       "count       43.000000  41.000000  43.000000\n",
       "mean        18.279070  31.512195  12.767442\n",
       "std          3.627446  11.225244  11.757140\n",
       "min          9.000000  21.000000   1.000000\n",
       "25%         16.000000  25.000000   5.000000\n",
       "50%         18.000000  27.000000  10.000000\n",
       "75%         20.000000  32.000000  15.000000\n",
       "max         30.000000  63.000000  46.000000"
      ]
     },
     "execution_count": 39,
     "metadata": {},
     "output_type": "execute_result"
    }
   ],
   "source": [
    "driving_descriptive_data.describe()"
   ]
  },
  {
   "cell_type": "markdown",
   "metadata": {},
   "source": [
    "### Car type condition"
   ]
  },
  {
   "cell_type": "code",
   "execution_count": 40,
   "metadata": {},
   "outputs": [
    {
     "name": "stdout",
     "output_type": "stream",
     "text": [
      "Descriptive data of car type condition (13, 6) \n",
      "\n",
      "Less than once a month.    0.384615\n",
      "Once a week.               0.307692\n",
      "Not at all.                0.153846\n",
      "Almost daily.              0.076923\n",
      "Once a month.              0.076923\n",
      "Name: drivingxpcat, dtype: float64 \n",
      "\n",
      "Female    0.615385\n",
      "Male      0.384615\n",
      "Name: gender, dtype: float64 \n",
      "\n",
      "Bachelor degree                         0.692308\n",
      "Masters/Diploma degree                  0.230769\n",
      "Vocational training/Berufsausbildung    0.076923\n",
      "Name: educationlevel, dtype: float64 \n",
      "\n"
     ]
    }
   ],
   "source": [
    "print(\"Descriptive data of car type condition\", car_type_descriptive_data.shape, \"\\n\")\n",
    "for nominal_column in [\"drivingxpcat\", \"gender\", \"educationlevel\"]:\n",
    "    print(car_type_descriptive_data[nominal_column].value_counts(normalize=True), \"\\n\")"
   ]
  },
  {
   "cell_type": "code",
   "execution_count": 41,
   "metadata": {},
   "outputs": [
    {
     "data": {
      "text/html": [
       "<div>\n",
       "<style scoped>\n",
       "    .dataframe tbody tr th:only-of-type {\n",
       "        vertical-align: middle;\n",
       "    }\n",
       "\n",
       "    .dataframe tbody tr th {\n",
       "        vertical-align: top;\n",
       "    }\n",
       "\n",
       "    .dataframe thead th {\n",
       "        text-align: right;\n",
       "    }\n",
       "</style>\n",
       "<table border=\"1\" class=\"dataframe\">\n",
       "  <thead>\n",
       "    <tr style=\"text-align: right;\">\n",
       "      <th></th>\n",
       "      <th>educationyears</th>\n",
       "      <th>age</th>\n",
       "      <th>drivingxp</th>\n",
       "    </tr>\n",
       "  </thead>\n",
       "  <tbody>\n",
       "    <tr>\n",
       "      <th>count</th>\n",
       "      <td>13.000000</td>\n",
       "      <td>12.000000</td>\n",
       "      <td>13.000000</td>\n",
       "    </tr>\n",
       "    <tr>\n",
       "      <th>mean</th>\n",
       "      <td>16.923077</td>\n",
       "      <td>28.833333</td>\n",
       "      <td>9.000000</td>\n",
       "    </tr>\n",
       "    <tr>\n",
       "      <th>std</th>\n",
       "      <td>2.361551</td>\n",
       "      <td>9.962049</td>\n",
       "      <td>10.824355</td>\n",
       "    </tr>\n",
       "    <tr>\n",
       "      <th>min</th>\n",
       "      <td>12.000000</td>\n",
       "      <td>21.000000</td>\n",
       "      <td>1.000000</td>\n",
       "    </tr>\n",
       "    <tr>\n",
       "      <th>25%</th>\n",
       "      <td>16.000000</td>\n",
       "      <td>24.000000</td>\n",
       "      <td>2.000000</td>\n",
       "    </tr>\n",
       "    <tr>\n",
       "      <th>50%</th>\n",
       "      <td>18.000000</td>\n",
       "      <td>26.000000</td>\n",
       "      <td>5.000000</td>\n",
       "    </tr>\n",
       "    <tr>\n",
       "      <th>75%</th>\n",
       "      <td>18.000000</td>\n",
       "      <td>28.500000</td>\n",
       "      <td>10.000000</td>\n",
       "    </tr>\n",
       "    <tr>\n",
       "      <th>max</th>\n",
       "      <td>20.000000</td>\n",
       "      <td>59.000000</td>\n",
       "      <td>41.000000</td>\n",
       "    </tr>\n",
       "  </tbody>\n",
       "</table>\n",
       "</div>"
      ],
      "text/plain": [
       "       educationyears        age  drivingxp\n",
       "count       13.000000  12.000000  13.000000\n",
       "mean        16.923077  28.833333   9.000000\n",
       "std          2.361551   9.962049  10.824355\n",
       "min         12.000000  21.000000   1.000000\n",
       "25%         16.000000  24.000000   2.000000\n",
       "50%         18.000000  26.000000   5.000000\n",
       "75%         18.000000  28.500000  10.000000\n",
       "max         20.000000  59.000000  41.000000"
      ]
     },
     "execution_count": 41,
     "metadata": {},
     "output_type": "execute_result"
    }
   ],
   "source": [
    "car_type_descriptive_data.describe()"
   ]
  },
  {
   "cell_type": "code",
   "execution_count": 42,
   "metadata": {},
   "outputs": [
    {
     "data": {
      "text/plain": [
       "21.0    1\n",
       "23.0    1\n",
       "24.0    2\n",
       "26.0    3\n",
       "27.0    1\n",
       "28.0    1\n",
       "30.0    1\n",
       "32.0    1\n",
       "59.0    1\n",
       "Name: age, dtype: int64"
      ]
     },
     "execution_count": 42,
     "metadata": {},
     "output_type": "execute_result"
    }
   ],
   "source": [
    "car_type_descriptive_data[\"age\"].value_counts().sort_index()"
   ]
  },
  {
   "cell_type": "code",
   "execution_count": 60,
   "metadata": {},
   "outputs": [],
   "source": [
    "# make car type data usable for JASP\n",
    "columns = [\"aggressive\", \"defensive\"]\n",
    "jasp = pd.melt(car_type_data[[\"id\"] + columns], id_vars=\"id\", var_name=\"driving_style\", value_name=\"rating\")\n",
    "jasp.to_csv(\"working/cartype_jasp.csv\", index=False)"
   ]
  },
  {
   "cell_type": "markdown",
   "metadata": {},
   "source": [
    "## Results\n",
    "\n",
    "Comparing ratings of aggressive/defensive driving behaviours.\n",
    "\n",
    "First comparing means for the whole data.\n",
    "\n",
    "Then comparing means for the car type condition.\n",
    "\n",
    "We used independent samples t-test for both comparisons."
   ]
  },
  {
   "cell_type": "code",
   "execution_count": 43,
   "metadata": {},
   "outputs": [],
   "source": [
    "driving_data = pd.read_pickle(\"working/driving_data.pkl\")\n",
    "car_type_data = pd.read_pickle(\"working/car_type_data.pkl\")"
   ]
  },
  {
   "cell_type": "code",
   "execution_count": 52,
   "metadata": {},
   "outputs": [
    {
     "data": {
      "text/html": [
       "<div>\n",
       "<style scoped>\n",
       "    .dataframe tbody tr th:only-of-type {\n",
       "        vertical-align: middle;\n",
       "    }\n",
       "\n",
       "    .dataframe tbody tr th {\n",
       "        vertical-align: top;\n",
       "    }\n",
       "\n",
       "    .dataframe thead th {\n",
       "        text-align: right;\n",
       "    }\n",
       "</style>\n",
       "<table border=\"1\" class=\"dataframe\">\n",
       "  <thead>\n",
       "    <tr style=\"text-align: right;\">\n",
       "      <th></th>\n",
       "      <th>T</th>\n",
       "      <th>dof</th>\n",
       "      <th>alternative</th>\n",
       "      <th>p-val</th>\n",
       "      <th>CI95%</th>\n",
       "      <th>cohen-d</th>\n",
       "      <th>BF10</th>\n",
       "      <th>power</th>\n",
       "    </tr>\n",
       "  </thead>\n",
       "  <tbody>\n",
       "    <tr>\n",
       "      <th>T-test</th>\n",
       "      <td>0.091332</td>\n",
       "      <td>84</td>\n",
       "      <td>greater</td>\n",
       "      <td>0.463723</td>\n",
       "      <td>[-0.25, inf]</td>\n",
       "      <td>0.019697</td>\n",
       "      <td>0.452</td>\n",
       "      <td>0.060062</td>\n",
       "    </tr>\n",
       "  </tbody>\n",
       "</table>\n",
       "</div>"
      ],
      "text/plain": [
       "               T  dof alternative     p-val         CI95%   cohen-d   BF10  \\\n",
       "T-test  0.091332   84     greater  0.463723  [-0.25, inf]  0.019697  0.452   \n",
       "\n",
       "           power  \n",
       "T-test  0.060062  "
      ]
     },
     "execution_count": 52,
     "metadata": {},
     "output_type": "execute_result"
    }
   ],
   "source": [
    "# perform t test on driving data\n",
    "pg.ttest(driving_data[\"aggressive\"], driving_data[\"defensive\"], alternative=\"greater\")\n",
    "# pg.ttest(driving_data[\"aggressive\"], driving_data[\"defensive\"])"
   ]
  },
  {
   "cell_type": "code",
   "execution_count": 48,
   "metadata": {},
   "outputs": [
    {
     "data": {
      "text/plain": [
       "0.014534883720930036"
      ]
     },
     "execution_count": 48,
     "metadata": {},
     "output_type": "execute_result"
    }
   ],
   "source": [
    "driving_data[\"aggressive\"].mean() - driving_data[\"defensive\"].mean()"
   ]
  },
  {
   "cell_type": "code",
   "execution_count": 46,
   "metadata": {},
   "outputs": [
    {
     "data": {
      "text/html": [
       "<div>\n",
       "<style scoped>\n",
       "    .dataframe tbody tr th:only-of-type {\n",
       "        vertical-align: middle;\n",
       "    }\n",
       "\n",
       "    .dataframe tbody tr th {\n",
       "        vertical-align: top;\n",
       "    }\n",
       "\n",
       "    .dataframe thead th {\n",
       "        text-align: right;\n",
       "    }\n",
       "</style>\n",
       "<table border=\"1\" class=\"dataframe\">\n",
       "  <thead>\n",
       "    <tr style=\"text-align: right;\">\n",
       "      <th></th>\n",
       "      <th>T</th>\n",
       "      <th>dof</th>\n",
       "      <th>alternative</th>\n",
       "      <th>p-val</th>\n",
       "      <th>CI95%</th>\n",
       "      <th>cohen-d</th>\n",
       "      <th>BF10</th>\n",
       "      <th>power</th>\n",
       "    </tr>\n",
       "  </thead>\n",
       "  <tbody>\n",
       "    <tr>\n",
       "      <th>T-test</th>\n",
       "      <td>-0.559925</td>\n",
       "      <td>24</td>\n",
       "      <td>greater</td>\n",
       "      <td>0.70964</td>\n",
       "      <td>[-0.58, inf]</td>\n",
       "      <td>0.219621</td>\n",
       "      <td>0.815</td>\n",
       "      <td>0.014287</td>\n",
       "    </tr>\n",
       "  </tbody>\n",
       "</table>\n",
       "</div>"
      ],
      "text/plain": [
       "               T  dof alternative    p-val         CI95%   cohen-d   BF10  \\\n",
       "T-test -0.559925   24     greater  0.70964  [-0.58, inf]  0.219621  0.815   \n",
       "\n",
       "           power  \n",
       "T-test  0.014287  "
      ]
     },
     "execution_count": 46,
     "metadata": {},
     "output_type": "execute_result"
    }
   ],
   "source": [
    "# perform t test on car_type_data\n",
    "pg.ttest(car_type_data[\"aggressive\"], car_type_data[\"defensive\"], alternative=\"greater\")"
   ]
  },
  {
   "cell_type": "code",
   "execution_count": 53,
   "metadata": {},
   "outputs": [],
   "source": [
    "car_type_data.to_csv(\"working/car_type_data.csv\", index=False)"
   ]
  },
  {
   "cell_type": "code",
   "execution_count": null,
   "metadata": {},
   "outputs": [],
   "source": [
    "# confidence interval of paired t-test\n",
    "\"difference in means +- t(n-1, 0.05) * se(mean) / sqrt(n)\"\n",
    "\n",
    "\n",
    "def t_ci(data, alpha=0.05):\n",
    "    t, p = scipy.stats.ttest_rel(data[0], data[1])\n",
    "    ci = scipy.stats.t.ppf(1-alpha/2, np.abs(t))    # is this the same? (automatically generated)\n",
    "    return ci\n",
    "\n",
    "# modify this\n",
    "def confidence_interval_bar(data, confidence=0.95):\n",
    "    a = 1.0 * np.array(data)\n",
    "    n = len(a)\n",
    "    m, se = np.mean(a), scipy.stats.sem(a)\n",
    "    error_bar = se * scipy.stats.t.ppf((1 + confidence) / 2., n-1)\n",
    "    return error_bar"
   ]
  },
  {
   "cell_type": "code",
   "execution_count": null,
   "metadata": {},
   "outputs": [
    {
     "data": {
      "image/png": "[encoded data removed]",
      "text/plain": [
       "<Figure size 504x288 with 2 Axes>"
      ]
     },
     "metadata": {
      "needs_background": "light"
     },
     "output_type": "display_data"
    }
   ],
   "source": [
    "# Build the plot\n",
    "figure, axis = plt.subplots(1, 2, figsize=(7, 4))\n",
    "\n",
    "# Reaction times\n",
    "consistent_mean = np.mean(reaction_times[\"NC\"])\n",
    "inconsistent_mean = np.mean(reaction_times[\"NI\"])\n",
    "\n",
    "consistent_std = np.std(reaction_times[\"NC\"])\n",
    "inconsistent_std = np.std(reaction_times[\"NI\"])\n",
    "\n",
    "conditions = [\"Consistent\", \"Inconsistent\"]\n",
    "x_pos = np.arange(len(conditions))\n",
    "CTEs = [consistent_mean, inconsistent_mean]\n",
    "error = [confidence_interval_bar(reaction_times[\"NC\"]), confidence_interval_bar(reaction_times[\"NI\"])]\n",
    "\n",
    "axis[0].bar(x_pos, CTEs, yerr=error, align='center', alpha=0.5, ecolor='black', capsize=10, width=0.6)\n",
    "axis[0].set_xlabel('Condition')\n",
    "axis[0].set_ylabel('Reaction time (ms)')\n",
    "axis[0].set_xticks(x_pos)\n",
    "axis[0].set_xticklabels(conditions)\n",
    "axis[0].set_title('Simon Effect (Reaction Times)')\n",
    "\n",
    "# Error rates\n",
    "consistent_mean = np.mean(error_rates[\"NC\"])\n",
    "inconsistent_mean = np.mean(error_rates[\"NI\"])\n",
    "\n",
    "consistent_std = np.std(error_rates[\"NC\"])\n",
    "inconsistent_std = np.std(error_rates[\"NI\"])\n",
    "\n",
    "conditions = [\"Consistent\", \"Inconsistent\"]\n",
    "x_pos = np.arange(len(conditions))\n",
    "CTEs = [consistent_mean, inconsistent_mean]\n",
    "error = [confidence_interval_bar(error_rates[\"NC\"]), confidence_interval_bar(error_rates[\"NI\"])]\n",
    "\n",
    "axis[1].bar(x_pos, CTEs, yerr=error, align='center', alpha=0.5, ecolor='black', capsize=10, width=0.6)\n",
    "axis[1].set_xlabel('Condition')\n",
    "axis[1].set_ylabel('Error rate')\n",
    "axis[1].set_xticks(x_pos)\n",
    "axis[1].set_xticklabels(conditions)\n",
    "axis[1].set_title('Simon Effect (Error Rates)')\n",
    "\n",
    "plt.tight_layout()\n",
    "plt.show()"
   ]
  },
  {
   "cell_type": "markdown",
   "metadata": {},
   "source": [
    "## Repeated measures ANOVA??"
   ]
  },
  {
   "cell_type": "code",
   "execution_count": null,
   "metadata": {},
   "outputs": [
    {
     "data": {
      "text/html": [
       "<div>\n",
       "<style scoped>\n",
       "    .dataframe tbody tr th:only-of-type {\n",
       "        vertical-align: middle;\n",
       "    }\n",
       "\n",
       "    .dataframe tbody tr th {\n",
       "        vertical-align: top;\n",
       "    }\n",
       "\n",
       "    .dataframe thead th {\n",
       "        text-align: right;\n",
       "    }\n",
       "</style>\n",
       "<table border=\"1\" class=\"dataframe\">\n",
       "  <thead>\n",
       "    <tr style=\"text-align: right;\">\n",
       "      <th></th>\n",
       "      <th>subject</th>\n",
       "      <th>variable</th>\n",
       "      <th>value</th>\n",
       "    </tr>\n",
       "  </thead>\n",
       "  <tbody>\n",
       "    <tr>\n",
       "      <th>4</th>\n",
       "      <td>5</td>\n",
       "      <td>NC</td>\n",
       "      <td>376.979452</td>\n",
       "    </tr>\n",
       "    <tr>\n",
       "      <th>18</th>\n",
       "      <td>8</td>\n",
       "      <td>NI</td>\n",
       "      <td>375.634328</td>\n",
       "    </tr>\n",
       "    <tr>\n",
       "      <th>16</th>\n",
       "      <td>6</td>\n",
       "      <td>NI</td>\n",
       "      <td>448.746154</td>\n",
       "    </tr>\n",
       "    <tr>\n",
       "      <th>15</th>\n",
       "      <td>5</td>\n",
       "      <td>NI</td>\n",
       "      <td>413.185714</td>\n",
       "    </tr>\n",
       "    <tr>\n",
       "      <th>17</th>\n",
       "      <td>7</td>\n",
       "      <td>NI</td>\n",
       "      <td>462.722628</td>\n",
       "    </tr>\n",
       "  </tbody>\n",
       "</table>\n",
       "</div>"
      ],
      "text/plain": [
       "    subject variable       value\n",
       "4         5       NC  376.979452\n",
       "18        8       NI  375.634328\n",
       "16        6       NI  448.746154\n",
       "15        5       NI  413.185714\n",
       "17        7       NI  462.722628"
      ]
     },
     "execution_count": 46,
     "metadata": {},
     "output_type": "execute_result"
    }
   ],
   "source": [
    "# unpivot dataframes\n",
    "reaction_times = pd.melt(reaction_times, id_vars=[\"subject\"], value_vars=[\"NC\", \"NI\"])\n",
    "error_rates = pd.melt(error_rates, id_vars=[\"subject\"], value_vars=[\"NC\", \"NI\"])\n",
    "reaction_times.sample(5)"
   ]
  },
  {
   "cell_type": "code",
   "execution_count": null,
   "metadata": {},
   "outputs": [
    {
     "name": "stdout",
     "output_type": "stream",
     "text": [
      "Reaction times:\n",
      "                Anova\n",
      "======================================\n",
      "         F Value Num DF  Den DF Pr > F\n",
      "--------------------------------------\n",
      "variable 21.8033 1.0000 10.0000 0.0009\n",
      "======================================\n",
      "\n",
      "Error rates:\n",
      "                Anova\n",
      "======================================\n",
      "         F Value Num DF  Den DF Pr > F\n",
      "--------------------------------------\n",
      "variable 14.5310 1.0000 10.0000 0.0034\n",
      "======================================\n",
      "\n"
     ]
    }
   ],
   "source": [
    "print(\"Reaction times:\")\n",
    "print(AnovaRM(data=reaction_times, depvar=\"value\", subject=\"subject\", within=['variable']).fit())\n",
    "print(\"Error rates:\")\n",
    "print(AnovaRM(data=error_rates, depvar=\"value\", subject=\"subject\", within=['variable']).fit())"
   ]
  },
  {
   "cell_type": "code",
   "execution_count": null,
   "metadata": {},
   "outputs": [],
   "source": []
  },
  {
   "cell_type": "code",
   "execution_count": null,
   "metadata": {},
   "outputs": [],
   "source": []
  }
 ],
 "metadata": {
  "kernelspec": {
   "display_name": "Python 3.10.5 ('venv': venv)",
   "language": "python",
   "name": "python3"
  },
  "language_info": {
   "codemirror_mode": {
    "name": "ipython",
    "version": 3
   },
   "file_extension": ".py",
   "mimetype": "text/x-python",
   "name": "python",
   "nbconvert_exporter": "python",
   "pygments_lexer": "ipython3",
   "version": "3.10.5"
  },
  "orig_nbformat": 4,
  "vscode": {
   "interpreter": {
    "hash": "6a05a56568b3360b44bc7e2de2c6e81d80d56995c7f7257222e51d63f128813a"
   }
  }
 },
 "nbformat": 4,
 "nbformat_minor": 2
}
