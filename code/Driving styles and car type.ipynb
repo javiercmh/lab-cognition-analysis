{
 "cells": [
  {
   "cell_type": "markdown",
   "metadata": {},
   "source": [
    "# Driving styles and car type"
   ]
  },
  {
   "cell_type": "code",
   "execution_count": 1,
   "metadata": {},
   "outputs": [],
   "source": [
    "import os\n",
    "os.chdir('../data')"
   ]
  },
  {
   "cell_type": "code",
   "execution_count": 2,
   "metadata": {},
   "outputs": [],
   "source": [
    "import scipy\n",
    "import numpy as np\n",
    "import pandas as pd\n",
    "import pingouin as pg\n",
    "import matplotlib.pyplot as plt\n",
    "from statsmodels.stats.anova import AnovaRM"
   ]
  },
  {
   "cell_type": "code",
   "execution_count": 187,
   "metadata": {},
   "outputs": [],
   "source": [
    "driving_data = pd.read_csv(\"input/results-survey528393.csv\")"
   ]
  },
  {
   "cell_type": "code",
   "execution_count": 188,
   "metadata": {},
   "outputs": [
    {
     "name": "stdout",
     "output_type": "stream",
     "text": [
      "Driving data (48, 334)\n"
     ]
    }
   ],
   "source": [
    "print(\"Driving data\", driving_data.shape)"
   ]
  },
  {
   "cell_type": "code",
   "execution_count": 189,
   "metadata": {},
   "outputs": [
    {
     "data": {
      "text/plain": [
       "1    15\n",
       "2    15\n",
       "3    18\n",
       "Name: condition, dtype: int64"
      ]
     },
     "execution_count": 189,
     "metadata": {},
     "output_type": "execute_result"
    }
   ],
   "source": [
    "driving_data[\"condition\"].value_counts().sort_index()"
   ]
  },
  {
   "cell_type": "markdown",
   "metadata": {},
   "source": [
    "## Preprocessing\n",
    "\n",
    "Get results from the driving style scale that each participant responded and filter out the participants from the conditions other than \"car type\"."
   ]
  },
  {
   "cell_type": "code",
   "execution_count": 196,
   "metadata": {},
   "outputs": [],
   "source": [
    "car_type_data = driving_data[driving_data[\"condition\"] == 3]"
   ]
  },
  {
   "cell_type": "code",
   "execution_count": 197,
   "metadata": {},
   "outputs": [],
   "source": [
    "# split car types\n",
    "agg_family = car_type_data.columns[car_type_data.columns.str.fullmatch(\"aggfam.+\\[SQ00[1-2]\\]\")]\n",
    "def_family = car_type_data.columns[car_type_data.columns.str.fullmatch(\"deffam.+\\[SQ00[1-2]\\]\")]\n",
    "\n",
    "agg_sports = car_type_data.columns[car_type_data.columns.str.fullmatch(\"aggsport.+\\[SQ00[1-2]\\]\")]\n",
    "def_sports = car_type_data.columns[car_type_data.columns.str.fullmatch(\"defsport.+\\[SQ00[1-2]\\]\")]"
   ]
  },
  {
   "cell_type": "code",
   "execution_count": 198,
   "metadata": {},
   "outputs": [
    {
     "data": {
      "text/plain": [
       "Index(['aggsports2[SQ001]', 'aggsports2[SQ002]', 'aggsports[SQ001]',\n",
       "       'aggsports[SQ002]'],\n",
       "      dtype='object')"
      ]
     },
     "execution_count": 198,
     "metadata": {},
     "output_type": "execute_result"
    }
   ],
   "source": [
    "agg_sports"
   ]
  },
  {
   "cell_type": "code",
   "execution_count": 199,
   "metadata": {},
   "outputs": [],
   "source": [
    "conditions_data = pd.DataFrame(\n",
    "    {\n",
    "        \"agg_family\": car_type_data.loc[:, agg_family].mean(axis=1),\n",
    "        \"def_family\": car_type_data.loc[:, def_family].mean(axis=1),\n",
    "        \"agg_sports\": car_type_data.loc[:, agg_sports].mean(axis=1),\n",
    "        \"def_sports\": car_type_data.loc[:, def_sports].mean(axis=1),\n",
    "    }\n",
    ")\n",
    "car_type_data = car_type_data.join(conditions_data)"
   ]
  },
  {
   "cell_type": "code",
   "execution_count": 200,
   "metadata": {},
   "outputs": [
    {
     "data": {
      "text/plain": [
       "Index(['id', 'submitdate', 'lastpage', 'startlanguage', 'seed', 'startdate',\n",
       "       'datestamp', 'consent', 'consent2', 'generatecode',\n",
       "       ...\n",
       "       'SensationArrayTime', 'TrustArrayTime', 'groupTime177',\n",
       "       'participationhoursTime', 'groupTime188', 'FeedbackTime', 'agg_family',\n",
       "       'def_family', 'agg_sports', 'def_sports'],\n",
       "      dtype='object', length=338)"
      ]
     },
     "execution_count": 200,
     "metadata": {},
     "output_type": "execute_result"
    }
   ],
   "source": [
    "car_type_data.columns"
   ]
  },
  {
   "cell_type": "code",
   "execution_count": 202,
   "metadata": {},
   "outputs": [
    {
     "data": {
      "text/plain": [
       "(18, 338)"
      ]
     },
     "execution_count": 202,
     "metadata": {},
     "output_type": "execute_result"
    }
   ],
   "source": [
    "car_type_data.to_csv(\"working/car_type_data.csv\", index=False)\n",
    "car_type_data.shape"
   ]
  },
  {
   "cell_type": "code",
   "execution_count": 203,
   "metadata": {},
   "outputs": [],
   "source": [
    "# get data in a different format (unpivot)\n",
    "agg_family_data = pd.DataFrame(\n",
    "    {\n",
    "        \"driving_style\": \"aggressive\",\n",
    "        \"car_type\": \"family\",\n",
    "        \"rating\": car_type_data.loc[:, agg_family].mean(axis=1),\n",
    "    }\n",
    ")\n",
    "\n",
    "def_family_data = pd.DataFrame(\n",
    "    {\n",
    "        \"driving_style\": \"defensive\",\n",
    "        \"car_type\": \"family\",\n",
    "        \"rating\": car_type_data.loc[:, def_family].mean(axis=1),\n",
    "    }\n",
    ")\n",
    "\n",
    "agg_sports_data = pd.DataFrame(\n",
    "    {\n",
    "        \"driving_style\": \"aggressive\",\n",
    "        \"car_type\": \"sports\",\n",
    "        \"rating\": car_type_data.loc[:, agg_sports].mean(axis=1),\n",
    "    }\n",
    ")\n",
    "\n",
    "def_sports_data = pd.DataFrame(\n",
    "    {\n",
    "        \"driving_style\": \"defensive\",\n",
    "        \"car_type\": \"sports\",\n",
    "        \"rating\": car_type_data.loc[:, def_sports].mean(axis=1),\n",
    "    }\n",
    ")"
   ]
  },
  {
   "cell_type": "code",
   "execution_count": 204,
   "metadata": {},
   "outputs": [
    {
     "data": {
      "text/html": [
       "<div>\n",
       "<style scoped>\n",
       "    .dataframe tbody tr th:only-of-type {\n",
       "        vertical-align: middle;\n",
       "    }\n",
       "\n",
       "    .dataframe tbody tr th {\n",
       "        vertical-align: top;\n",
       "    }\n",
       "\n",
       "    .dataframe thead th {\n",
       "        text-align: right;\n",
       "    }\n",
       "</style>\n",
       "<table border=\"1\" class=\"dataframe\">\n",
       "  <thead>\n",
       "    <tr style=\"text-align: right;\">\n",
       "      <th></th>\n",
       "      <th>id</th>\n",
       "      <th>driving_style</th>\n",
       "      <th>car_type</th>\n",
       "      <th>rating</th>\n",
       "    </tr>\n",
       "  </thead>\n",
       "  <tbody>\n",
       "    <tr>\n",
       "      <th>0</th>\n",
       "      <td>1</td>\n",
       "      <td>aggressive</td>\n",
       "      <td>family</td>\n",
       "      <td>2.25</td>\n",
       "    </tr>\n",
       "    <tr>\n",
       "      <th>1</th>\n",
       "      <td>24</td>\n",
       "      <td>aggressive</td>\n",
       "      <td>family</td>\n",
       "      <td>3.50</td>\n",
       "    </tr>\n",
       "    <tr>\n",
       "      <th>2</th>\n",
       "      <td>25</td>\n",
       "      <td>aggressive</td>\n",
       "      <td>family</td>\n",
       "      <td>3.25</td>\n",
       "    </tr>\n",
       "    <tr>\n",
       "      <th>3</th>\n",
       "      <td>27</td>\n",
       "      <td>aggressive</td>\n",
       "      <td>family</td>\n",
       "      <td>1.00</td>\n",
       "    </tr>\n",
       "    <tr>\n",
       "      <th>4</th>\n",
       "      <td>30</td>\n",
       "      <td>aggressive</td>\n",
       "      <td>family</td>\n",
       "      <td>2.50</td>\n",
       "    </tr>\n",
       "    <tr>\n",
       "      <th>...</th>\n",
       "      <td>...</td>\n",
       "      <td>...</td>\n",
       "      <td>...</td>\n",
       "      <td>...</td>\n",
       "    </tr>\n",
       "    <tr>\n",
       "      <th>67</th>\n",
       "      <td>43</td>\n",
       "      <td>defensive</td>\n",
       "      <td>sports</td>\n",
       "      <td>3.25</td>\n",
       "    </tr>\n",
       "    <tr>\n",
       "      <th>68</th>\n",
       "      <td>44</td>\n",
       "      <td>defensive</td>\n",
       "      <td>sports</td>\n",
       "      <td>3.25</td>\n",
       "    </tr>\n",
       "    <tr>\n",
       "      <th>69</th>\n",
       "      <td>45</td>\n",
       "      <td>defensive</td>\n",
       "      <td>sports</td>\n",
       "      <td>1.75</td>\n",
       "    </tr>\n",
       "    <tr>\n",
       "      <th>70</th>\n",
       "      <td>46</td>\n",
       "      <td>defensive</td>\n",
       "      <td>sports</td>\n",
       "      <td>3.25</td>\n",
       "    </tr>\n",
       "    <tr>\n",
       "      <th>71</th>\n",
       "      <td>47</td>\n",
       "      <td>defensive</td>\n",
       "      <td>sports</td>\n",
       "      <td>2.50</td>\n",
       "    </tr>\n",
       "  </tbody>\n",
       "</table>\n",
       "<p>72 rows × 4 columns</p>\n",
       "</div>"
      ],
      "text/plain": [
       "    id driving_style car_type  rating\n",
       "0    1    aggressive   family    2.25\n",
       "1   24    aggressive   family    3.50\n",
       "2   25    aggressive   family    3.25\n",
       "3   27    aggressive   family    1.00\n",
       "4   30    aggressive   family    2.50\n",
       "..  ..           ...      ...     ...\n",
       "67  43     defensive   sports    3.25\n",
       "68  44     defensive   sports    3.25\n",
       "69  45     defensive   sports    1.75\n",
       "70  46     defensive   sports    3.25\n",
       "71  47     defensive   sports    2.50\n",
       "\n",
       "[72 rows x 4 columns]"
      ]
     },
     "execution_count": 204,
     "metadata": {},
     "output_type": "execute_result"
    }
   ],
   "source": [
    "car_type_data_unpivot = pd.concat(\n",
    "    [agg_family_data, def_family_data, agg_sports_data, def_sports_data]\n",
    ")\n",
    "car_type_data_unpivot = car_type_data_unpivot.reset_index().rename(columns={\"index\": \"id\"})\n",
    "car_type_data_unpivot"
   ]
  },
  {
   "cell_type": "code",
   "execution_count": 205,
   "metadata": {},
   "outputs": [],
   "source": [
    "car_type_data.to_pickle(\"working/car_type_data.pkl\")\n",
    "car_type_data_unpivot.to_pickle(\"working/car_type_data_unpivot.pkl\")"
   ]
  },
  {
   "cell_type": "markdown",
   "metadata": {},
   "source": [
    "## Descriptive statistics"
   ]
  },
  {
   "cell_type": "markdown",
   "metadata": {},
   "source": [
    "### Demographics"
   ]
  },
  {
   "cell_type": "code",
   "execution_count": 213,
   "metadata": {},
   "outputs": [],
   "source": [
    "car_type_data = pd.read_pickle(\"working/car_type_data.pkl\")\n",
    "car_type_data_unpivot = pd.read_pickle(\"working/car_type_data_unpivot.pkl\")"
   ]
  },
  {
   "cell_type": "code",
   "execution_count": 208,
   "metadata": {},
   "outputs": [],
   "source": [
    "descriptive_columns = [\n",
    "    \"drivingxpcat\",     # driving in the last 12 months\n",
    "    \"educationyears\",\n",
    "    \"age\",\n",
    "    \"gender\",\n",
    "    \"drivingxp\",        # years of experience driving cars\n",
    "    \"educationlevel\",\n",
    "]"
   ]
  },
  {
   "cell_type": "code",
   "execution_count": 209,
   "metadata": {},
   "outputs": [
    {
     "data": {
      "text/plain": [
       "(18, 6)"
      ]
     },
     "execution_count": 209,
     "metadata": {},
     "output_type": "execute_result"
    }
   ],
   "source": [
    "descriptive_data = car_type_data[descriptive_columns]\n",
    "descriptive_data.shape"
   ]
  },
  {
   "cell_type": "code",
   "execution_count": 210,
   "metadata": {},
   "outputs": [
    {
     "name": "stdout",
     "output_type": "stream",
     "text": [
      "Descriptive data of car type condition (18, 6) \n",
      "\n",
      "Once a week.               0.388889\n",
      "Less than once a month.    0.333333\n",
      "Not at all.                0.111111\n",
      "Almost daily.              0.111111\n",
      "Once a month.              0.055556\n",
      "Name: drivingxpcat, dtype: float64 \n",
      "\n",
      "Female    0.555556\n",
      "Male      0.444444\n",
      "Name: gender, dtype: float64 \n",
      "\n",
      "Bachelor degree                         0.611111\n",
      "Masters/Diploma degree                  0.277778\n",
      "Vocational training/Berufsausbildung    0.055556\n",
      "Doctoral degree                         0.055556\n",
      "Name: educationlevel, dtype: float64 \n",
      "\n"
     ]
    }
   ],
   "source": [
    "print(\"Descriptive data of car type condition\", descriptive_data.shape, \"\\n\")\n",
    "for nominal_column in [\"drivingxpcat\", \"gender\", \"educationlevel\"]:\n",
    "    print(descriptive_data[nominal_column].value_counts(normalize=True), \"\\n\")"
   ]
  },
  {
   "cell_type": "code",
   "execution_count": 211,
   "metadata": {},
   "outputs": [
    {
     "data": {
      "text/html": [
       "<div>\n",
       "<style scoped>\n",
       "    .dataframe tbody tr th:only-of-type {\n",
       "        vertical-align: middle;\n",
       "    }\n",
       "\n",
       "    .dataframe tbody tr th {\n",
       "        vertical-align: top;\n",
       "    }\n",
       "\n",
       "    .dataframe thead th {\n",
       "        text-align: right;\n",
       "    }\n",
       "</style>\n",
       "<table border=\"1\" class=\"dataframe\">\n",
       "  <thead>\n",
       "    <tr style=\"text-align: right;\">\n",
       "      <th></th>\n",
       "      <th>educationyears</th>\n",
       "      <th>age</th>\n",
       "      <th>drivingxp</th>\n",
       "    </tr>\n",
       "  </thead>\n",
       "  <tbody>\n",
       "    <tr>\n",
       "      <th>count</th>\n",
       "      <td>18.000000</td>\n",
       "      <td>17.000000</td>\n",
       "      <td>18.000000</td>\n",
       "    </tr>\n",
       "    <tr>\n",
       "      <th>mean</th>\n",
       "      <td>17.277778</td>\n",
       "      <td>29.058824</td>\n",
       "      <td>9.055556</td>\n",
       "    </tr>\n",
       "    <tr>\n",
       "      <th>std</th>\n",
       "      <td>2.136670</td>\n",
       "      <td>8.437051</td>\n",
       "      <td>9.257571</td>\n",
       "    </tr>\n",
       "    <tr>\n",
       "      <th>min</th>\n",
       "      <td>12.000000</td>\n",
       "      <td>21.000000</td>\n",
       "      <td>1.000000</td>\n",
       "    </tr>\n",
       "    <tr>\n",
       "      <th>25%</th>\n",
       "      <td>17.000000</td>\n",
       "      <td>26.000000</td>\n",
       "      <td>4.000000</td>\n",
       "    </tr>\n",
       "    <tr>\n",
       "      <th>50%</th>\n",
       "      <td>18.000000</td>\n",
       "      <td>26.000000</td>\n",
       "      <td>7.500000</td>\n",
       "    </tr>\n",
       "    <tr>\n",
       "      <th>75%</th>\n",
       "      <td>18.000000</td>\n",
       "      <td>31.000000</td>\n",
       "      <td>11.500000</td>\n",
       "    </tr>\n",
       "    <tr>\n",
       "      <th>max</th>\n",
       "      <td>20.000000</td>\n",
       "      <td>59.000000</td>\n",
       "      <td>41.000000</td>\n",
       "    </tr>\n",
       "  </tbody>\n",
       "</table>\n",
       "</div>"
      ],
      "text/plain": [
       "       educationyears        age  drivingxp\n",
       "count       18.000000  17.000000  18.000000\n",
       "mean        17.277778  29.058824   9.055556\n",
       "std          2.136670   8.437051   9.257571\n",
       "min         12.000000  21.000000   1.000000\n",
       "25%         17.000000  26.000000   4.000000\n",
       "50%         18.000000  26.000000   7.500000\n",
       "75%         18.000000  31.000000  11.500000\n",
       "max         20.000000  59.000000  41.000000"
      ]
     },
     "execution_count": 211,
     "metadata": {},
     "output_type": "execute_result"
    }
   ],
   "source": [
    "descriptive_data.describe()"
   ]
  },
  {
   "cell_type": "code",
   "execution_count": 212,
   "metadata": {},
   "outputs": [
    {
     "data": {
      "text/plain": [
       "21.0    1\n",
       "23.0    1\n",
       "24.0    2\n",
       "26.0    5\n",
       "27.0    1\n",
       "28.0    1\n",
       "30.0    1\n",
       "31.0    1\n",
       "32.0    2\n",
       "33.0    1\n",
       "59.0    1\n",
       "Name: age, dtype: int64"
      ]
     },
     "execution_count": 212,
     "metadata": {},
     "output_type": "execute_result"
    }
   ],
   "source": [
    "descriptive_data[\"age\"].value_counts().sort_index()"
   ]
  },
  {
   "cell_type": "code",
   "execution_count": 218,
   "metadata": {},
   "outputs": [
    {
     "name": "stdout",
     "output_type": "stream",
     "text": [
      "family: 2.5416666666666665 sports: 2.826388888888889\n"
     ]
    }
   ],
   "source": [
    "family = car_type_data_unpivot.loc[car_type_data_unpivot[\"car_type\"] == \"family\", \"rating\"]\n",
    "sports = car_type_data_unpivot.loc[car_type_data_unpivot[\"car_type\"] == \"sports\", \"rating\"]\n",
    "\n",
    "print(\"family:\", family.mean(), \"sports:\", sports.mean())"
   ]
  },
  {
   "cell_type": "code",
   "execution_count": 219,
   "metadata": {},
   "outputs": [
    {
     "name": "stdout",
     "output_type": "stream",
     "text": [
      "aggressive: 2.6319444444444446 defensive: 2.736111111111111\n"
     ]
    }
   ],
   "source": [
    "aggressive = car_type_data_unpivot.loc[car_type_data_unpivot[\"driving_style\"] == \"aggressive\", \"rating\"]\n",
    "defensive = car_type_data_unpivot.loc[car_type_data_unpivot[\"driving_style\"] == \"defensive\", \"rating\"]\n",
    "\n",
    "print(\"aggressive:\", aggressive.mean(), \"defensive:\", defensive.mean())"
   ]
  },
  {
   "cell_type": "markdown",
   "metadata": {},
   "source": [
    "## Results\n",
    "\n",
    "### t-test\n",
    "\n",
    "Comparing ratings of aggressive/defensive driving behaviours.\n",
    "\n",
    "First comparing means for the whole data.\n",
    "\n",
    "Then comparing means for the car type condition.\n",
    "\n",
    "We used independent samples t-test for both comparisons."
   ]
  },
  {
   "cell_type": "code",
   "execution_count": 222,
   "metadata": {},
   "outputs": [
    {
     "data": {
      "text/html": [
       "<div>\n",
       "<style scoped>\n",
       "    .dataframe tbody tr th:only-of-type {\n",
       "        vertical-align: middle;\n",
       "    }\n",
       "\n",
       "    .dataframe tbody tr th {\n",
       "        vertical-align: top;\n",
       "    }\n",
       "\n",
       "    .dataframe thead th {\n",
       "        text-align: right;\n",
       "    }\n",
       "</style>\n",
       "<table border=\"1\" class=\"dataframe\">\n",
       "  <thead>\n",
       "    <tr style=\"text-align: right;\">\n",
       "      <th></th>\n",
       "      <th>T</th>\n",
       "      <th>dof</th>\n",
       "      <th>alternative</th>\n",
       "      <th>p-val</th>\n",
       "      <th>CI95%</th>\n",
       "      <th>cohen-d</th>\n",
       "      <th>BF10</th>\n",
       "      <th>power</th>\n",
       "    </tr>\n",
       "  </thead>\n",
       "  <tbody>\n",
       "    <tr>\n",
       "      <th>T-test</th>\n",
       "      <td>-0.646816</td>\n",
       "      <td>70</td>\n",
       "      <td>greater</td>\n",
       "      <td>0.740067</td>\n",
       "      <td>[-0.37, inf]</td>\n",
       "      <td>0.152456</td>\n",
       "      <td>0.582</td>\n",
       "      <td>0.011143</td>\n",
       "    </tr>\n",
       "  </tbody>\n",
       "</table>\n",
       "</div>"
      ],
      "text/plain": [
       "               T  dof alternative     p-val         CI95%   cohen-d   BF10  \\\n",
       "T-test -0.646816   70     greater  0.740067  [-0.37, inf]  0.152456  0.582   \n",
       "\n",
       "           power  \n",
       "T-test  0.011143  "
      ]
     },
     "execution_count": 222,
     "metadata": {},
     "output_type": "execute_result"
    }
   ],
   "source": [
    "# perform t test on driving data\n",
    "pg.ttest(aggressive, defensive, alternative=\"greater\")"
   ]
  },
  {
   "cell_type": "code",
   "execution_count": 223,
   "metadata": {},
   "outputs": [
    {
     "data": {
      "text/plain": [
       "-0.10416666666666652"
      ]
     },
     "execution_count": 223,
     "metadata": {},
     "output_type": "execute_result"
    }
   ],
   "source": [
    "aggressive.mean() - defensive.mean()"
   ]
  },
  {
   "cell_type": "code",
   "execution_count": 226,
   "metadata": {},
   "outputs": [
    {
     "data": {
      "text/html": [
       "<div>\n",
       "<style scoped>\n",
       "    .dataframe tbody tr th:only-of-type {\n",
       "        vertical-align: middle;\n",
       "    }\n",
       "\n",
       "    .dataframe tbody tr th {\n",
       "        vertical-align: top;\n",
       "    }\n",
       "\n",
       "    .dataframe thead th {\n",
       "        text-align: right;\n",
       "    }\n",
       "</style>\n",
       "<table border=\"1\" class=\"dataframe\">\n",
       "  <thead>\n",
       "    <tr style=\"text-align: right;\">\n",
       "      <th></th>\n",
       "      <th>T</th>\n",
       "      <th>dof</th>\n",
       "      <th>alternative</th>\n",
       "      <th>p-val</th>\n",
       "      <th>CI95%</th>\n",
       "      <th>cohen-d</th>\n",
       "      <th>BF10</th>\n",
       "      <th>power</th>\n",
       "    </tr>\n",
       "  </thead>\n",
       "  <tbody>\n",
       "    <tr>\n",
       "      <th>T-test</th>\n",
       "      <td>-1.803178</td>\n",
       "      <td>70</td>\n",
       "      <td>greater</td>\n",
       "      <td>0.962168</td>\n",
       "      <td>[-0.55, inf]</td>\n",
       "      <td>0.425013</td>\n",
       "      <td>0.516</td>\n",
       "      <td>0.000301</td>\n",
       "    </tr>\n",
       "  </tbody>\n",
       "</table>\n",
       "</div>"
      ],
      "text/plain": [
       "               T  dof alternative     p-val         CI95%   cohen-d   BF10  \\\n",
       "T-test -1.803178   70     greater  0.962168  [-0.55, inf]  0.425013  0.516   \n",
       "\n",
       "           power  \n",
       "T-test  0.000301  "
      ]
     },
     "execution_count": 226,
     "metadata": {},
     "output_type": "execute_result"
    }
   ],
   "source": [
    "# perform t test on car_type_data\n",
    "pg.ttest(family, sports, alternative=\"greater\")"
   ]
  },
  {
   "cell_type": "markdown",
   "metadata": {},
   "source": [
    "### Repeated measures ANOVA"
   ]
  },
  {
   "cell_type": "code",
   "execution_count": 227,
   "metadata": {},
   "outputs": [
    {
     "data": {
      "text/html": [
       "<div>\n",
       "<style scoped>\n",
       "    .dataframe tbody tr th:only-of-type {\n",
       "        vertical-align: middle;\n",
       "    }\n",
       "\n",
       "    .dataframe tbody tr th {\n",
       "        vertical-align: top;\n",
       "    }\n",
       "\n",
       "    .dataframe thead th {\n",
       "        text-align: right;\n",
       "    }\n",
       "</style>\n",
       "<table border=\"1\" class=\"dataframe\">\n",
       "  <thead>\n",
       "    <tr style=\"text-align: right;\">\n",
       "      <th></th>\n",
       "      <th>id</th>\n",
       "      <th>driving_style</th>\n",
       "      <th>car_type</th>\n",
       "      <th>rating</th>\n",
       "    </tr>\n",
       "  </thead>\n",
       "  <tbody>\n",
       "    <tr>\n",
       "      <th>0</th>\n",
       "      <td>1</td>\n",
       "      <td>aggressive</td>\n",
       "      <td>family</td>\n",
       "      <td>2.25</td>\n",
       "    </tr>\n",
       "    <tr>\n",
       "      <th>1</th>\n",
       "      <td>24</td>\n",
       "      <td>aggressive</td>\n",
       "      <td>family</td>\n",
       "      <td>3.50</td>\n",
       "    </tr>\n",
       "    <tr>\n",
       "      <th>2</th>\n",
       "      <td>25</td>\n",
       "      <td>aggressive</td>\n",
       "      <td>family</td>\n",
       "      <td>3.25</td>\n",
       "    </tr>\n",
       "    <tr>\n",
       "      <th>3</th>\n",
       "      <td>27</td>\n",
       "      <td>aggressive</td>\n",
       "      <td>family</td>\n",
       "      <td>1.00</td>\n",
       "    </tr>\n",
       "    <tr>\n",
       "      <th>4</th>\n",
       "      <td>30</td>\n",
       "      <td>aggressive</td>\n",
       "      <td>family</td>\n",
       "      <td>2.50</td>\n",
       "    </tr>\n",
       "  </tbody>\n",
       "</table>\n",
       "</div>"
      ],
      "text/plain": [
       "   id driving_style car_type  rating\n",
       "0   1    aggressive   family    2.25\n",
       "1  24    aggressive   family    3.50\n",
       "2  25    aggressive   family    3.25\n",
       "3  27    aggressive   family    1.00\n",
       "4  30    aggressive   family    2.50"
      ]
     },
     "execution_count": 227,
     "metadata": {},
     "output_type": "execute_result"
    }
   ],
   "source": [
    "car_type_data_unpivot.head()"
   ]
  },
  {
   "cell_type": "code",
   "execution_count": 228,
   "metadata": {},
   "outputs": [
    {
     "name": "stdout",
     "output_type": "stream",
     "text": [
      "                       Anova\n",
      "====================================================\n",
      "                       F Value Num DF  Den DF Pr > F\n",
      "----------------------------------------------------\n",
      "driving_style           0.3381 1.0000 17.0000 0.5686\n",
      "car_type                6.2110 1.0000 17.0000 0.0233\n",
      "driving_style:car_type  1.0363 1.0000 17.0000 0.3230\n",
      "====================================================\n",
      "\n"
     ]
    }
   ],
   "source": [
    "print(\n",
    "    AnovaRM(\n",
    "        data=car_type_data_unpivot, depvar=\"rating\", subject=\"id\", within=[\"driving_style\", \"car_type\"]\n",
    "    ).fit()\n",
    ")"
   ]
  },
  {
   "cell_type": "code",
   "execution_count": null,
   "metadata": {},
   "outputs": [],
   "source": []
  }
 ],
 "metadata": {
  "kernelspec": {
   "display_name": "Python 3.10.5 ('venv': venv)",
   "language": "python",
   "name": "python3"
  },
  "language_info": {
   "codemirror_mode": {
    "name": "ipython",
    "version": 3
   },
   "file_extension": ".py",
   "mimetype": "text/x-python",
   "name": "python",
   "nbconvert_exporter": "python",
   "pygments_lexer": "ipython3",
   "version": "3.10.5"
  },
  "orig_nbformat": 4,
  "vscode": {
   "interpreter": {
    "hash": "6a05a56568b3360b44bc7e2de2c6e81d80d56995c7f7257222e51d63f128813a"
   }
  }
 },
 "nbformat": 4,
 "nbformat_minor": 2
}
