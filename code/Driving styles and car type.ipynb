{
 "cells": [
  {
   "cell_type": "markdown",
   "metadata": {},
   "source": [
    "# Driving styles and car type"
   ]
  },
  {
   "cell_type": "code",
   "execution_count": 1,
   "metadata": {},
   "outputs": [],
   "source": [
    "import os\n",
    "os.chdir('../data')"
   ]
  },
  {
   "cell_type": "code",
   "execution_count": 2,
   "metadata": {},
   "outputs": [],
   "source": [
    "import scipy\n",
    "import numpy as np\n",
    "import pandas as pd\n",
    "import pingouin as pg\n",
    "import matplotlib.pyplot as plt\n",
    "from statsmodels.stats.anova import AnovaRM"
   ]
  },
  {
   "cell_type": "code",
   "execution_count": 105,
   "metadata": {},
   "outputs": [],
   "source": [
    "driving_data = pd.read_csv(\"input/results-survey528393.csv\")"
   ]
  },
  {
   "cell_type": "code",
   "execution_count": 106,
   "metadata": {},
   "outputs": [
    {
     "name": "stdout",
     "output_type": "stream",
     "text": [
      "Driving data (43, 334)\n"
     ]
    }
   ],
   "source": [
    "print(\"Driving data\", driving_data.shape)"
   ]
  },
  {
   "cell_type": "code",
   "execution_count": 107,
   "metadata": {},
   "outputs": [
    {
     "data": {
      "text/plain": [
       "2    15\n",
       "1    15\n",
       "3    13\n",
       "Name: condition, dtype: int64"
      ]
     },
     "execution_count": 107,
     "metadata": {},
     "output_type": "execute_result"
    }
   ],
   "source": [
    "driving_data[\"condition\"].value_counts()"
   ]
  },
  {
   "cell_type": "markdown",
   "metadata": {},
   "source": [
    "## Preprocessing\n",
    "\n",
    "Get results from the driving style scale that each participant responded.\n",
    "\n",
    "**TODO**: maybe group all agg and all def. Then group all fam and sports."
   ]
  },
  {
   "cell_type": "code",
   "execution_count": 108,
   "metadata": {},
   "outputs": [],
   "source": [
    "# group column names of aggressive and defensive conditions.\n",
    "aggressive = driving_data.columns[driving_data.columns.str.fullmatch(\"agg[^2]+\\[SQ00[1-2]\\]\")]\n",
    "aggressive2 = driving_data.columns[driving_data.columns.str.fullmatch(\"agg.+2\\[SQ00[1-2]\\]\")]\n",
    "\n",
    "defensive = driving_data.columns[driving_data.columns.str.fullmatch(\"def[^2]+\\[SQ00[1-2]\\]\")]\n",
    "defensive2 = driving_data.columns[driving_data.columns.str.fullmatch(\"def.+2\\[SQ00[1-2]\\]\")]"
   ]
  },
  {
   "cell_type": "code",
   "execution_count": 109,
   "metadata": {},
   "outputs": [
    {
     "data": {
      "text/plain": [
       "Index(['aggpassenger[SQ001]', 'aggpassenger[SQ002]', 'aggdriver[SQ001]',\n",
       "       'aggdriver[SQ002]', 'aggrural[SQ001]', 'aggrural[SQ002]',\n",
       "       'aggurban[SQ001]', 'aggurban[SQ002]', 'aggfamily[SQ001]',\n",
       "       'aggfamily[SQ002]', 'aggsports[SQ001]', 'aggsports[SQ002]'],\n",
       "      dtype='object')"
      ]
     },
     "execution_count": 109,
     "metadata": {},
     "output_type": "execute_result"
    }
   ],
   "source": [
    "aggressive"
   ]
  },
  {
   "cell_type": "code",
   "execution_count": 110,
   "metadata": {},
   "outputs": [],
   "source": [
    "driving_data.loc[:, \"aggmean\"] = driving_data.loc[:, aggressive].mean(axis=1)\n",
    "driving_data.loc[:, \"aggmean2\"] = driving_data.loc[:, aggressive2].mean(axis=1)\n",
    "driving_data.loc[:, \"defmean\"] = driving_data.loc[:, defensive].mean(axis=1)\n",
    "driving_data.loc[:, \"defmean2\"] = driving_data.loc[:, defensive2].mean(axis=1)\n",
    "\n",
    "driving_data.loc[:, \"aggressive\"] = driving_data.loc[:, [\"aggmean\", \"aggmean2\"]].mean(axis=1)    # it is called \"assertive\" in Yusof's paper.\n",
    "driving_data.loc[:, \"defensive\"] = driving_data.loc[:, [\"defmean\", \"defmean2\"]].mean(axis=1)"
   ]
  },
  {
   "cell_type": "code",
   "execution_count": 73,
   "metadata": {},
   "outputs": [],
   "source": [
    "# split car types\n",
    "agg_family = driving_data.columns[driving_data.columns.str.fullmatch(\"aggfam.+\\[SQ00[1-2]\\]\")]\n",
    "def_family = driving_data.columns[driving_data.columns.str.fullmatch(\"deffam.+\\[SQ00[1-2]\\]\")]\n",
    "\n",
    "agg_sports = driving_data.columns[driving_data.columns.str.fullmatch(\"aggsport.+\\[SQ00[1-2]\\]\")]\n",
    "def_sports = driving_data.columns[driving_data.columns.str.fullmatch(\"defsport.+\\[SQ00[1-2]\\]\")]"
   ]
  },
  {
   "cell_type": "code",
   "execution_count": 74,
   "metadata": {},
   "outputs": [
    {
     "data": {
      "text/plain": [
       "Index(['aggsports[SQ001]', 'aggsports[SQ002]', 'aggsports2[SQ001]',\n",
       "       'aggsports2[SQ002]'],\n",
       "      dtype='object')"
      ]
     },
     "execution_count": 74,
     "metadata": {},
     "output_type": "execute_result"
    }
   ],
   "source": [
    "agg_sports"
   ]
  },
  {
   "cell_type": "code",
   "execution_count": 114,
   "metadata": {},
   "outputs": [
    {
     "data": {
      "text/html": [
       "<div>\n",
       "<style scoped>\n",
       "    .dataframe tbody tr th:only-of-type {\n",
       "        vertical-align: middle;\n",
       "    }\n",
       "\n",
       "    .dataframe tbody tr th {\n",
       "        vertical-align: top;\n",
       "    }\n",
       "\n",
       "    .dataframe thead th {\n",
       "        text-align: right;\n",
       "    }\n",
       "</style>\n",
       "<table border=\"1\" class=\"dataframe\">\n",
       "  <thead>\n",
       "    <tr style=\"text-align: right;\">\n",
       "      <th></th>\n",
       "      <th>id</th>\n",
       "      <th>agg_family</th>\n",
       "      <th>def_family</th>\n",
       "      <th>agg_sports</th>\n",
       "      <th>def_sports</th>\n",
       "    </tr>\n",
       "  </thead>\n",
       "  <tbody>\n",
       "    <tr>\n",
       "      <th>0</th>\n",
       "      <td>1</td>\n",
       "      <td>2.25</td>\n",
       "      <td>2.25</td>\n",
       "      <td>2.75</td>\n",
       "      <td>3.25</td>\n",
       "    </tr>\n",
       "    <tr>\n",
       "      <th>1</th>\n",
       "      <td>24</td>\n",
       "      <td>3.50</td>\n",
       "      <td>2.00</td>\n",
       "      <td>2.75</td>\n",
       "      <td>2.50</td>\n",
       "    </tr>\n",
       "    <tr>\n",
       "      <th>2</th>\n",
       "      <td>25</td>\n",
       "      <td>3.25</td>\n",
       "      <td>3.75</td>\n",
       "      <td>4.00</td>\n",
       "      <td>3.75</td>\n",
       "    </tr>\n",
       "    <tr>\n",
       "      <th>3</th>\n",
       "      <td>27</td>\n",
       "      <td>1.00</td>\n",
       "      <td>3.25</td>\n",
       "      <td>2.25</td>\n",
       "      <td>3.75</td>\n",
       "    </tr>\n",
       "    <tr>\n",
       "      <th>4</th>\n",
       "      <td>30</td>\n",
       "      <td>2.50</td>\n",
       "      <td>1.75</td>\n",
       "      <td>2.75</td>\n",
       "      <td>2.25</td>\n",
       "    </tr>\n",
       "  </tbody>\n",
       "</table>\n",
       "</div>"
      ],
      "text/plain": [
       "   id  agg_family  def_family  agg_sports  def_sports\n",
       "0   1        2.25        2.25        2.75        3.25\n",
       "1  24        3.50        2.00        2.75        2.50\n",
       "2  25        3.25        3.75        4.00        3.75\n",
       "3  27        1.00        3.25        2.25        3.75\n",
       "4  30        2.50        1.75        2.75        2.25"
      ]
     },
     "execution_count": 114,
     "metadata": {},
     "output_type": "execute_result"
    }
   ],
   "source": [
    "# keep only condition = 3, which explores car type\n",
    "car_type_data = driving_data[driving_data[\"condition\"] == 3]\n",
    "\n",
    "car_type_data = pd.DataFrame(\n",
    "    {\n",
    "        \"agg_family\": car_type_data.loc[:, agg_family].mean(axis=1),\n",
    "        \"def_family\": car_type_data.loc[:, def_family].mean(axis=1),\n",
    "        \"agg_sports\": car_type_data.loc[:, agg_sports].mean(axis=1),\n",
    "        \"def_sports\": car_type_data.loc[:, def_sports].mean(axis=1),\n",
    "    }\n",
    ")\n",
    "car_type_data = car_type_data.reset_index().rename(columns={\"index\": \"id\"})\n",
    "car_type_data.to_csv(\"working/car_type_data.csv\", index=False)\n",
    "car_type_data.head()"
   ]
  },
  {
   "cell_type": "code",
   "execution_count": 83,
   "metadata": {},
   "outputs": [],
   "source": [
    "agg_family_data = pd.DataFrame(\n",
    "    {\n",
    "        \"driving_style\": \"aggressive\",\n",
    "        \"car_type\": \"family\",\n",
    "        \"rating\": car_type_data.loc[:, agg_family].mean(axis=1),\n",
    "    }\n",
    ")\n",
    "\n",
    "def_family_data = pd.DataFrame(\n",
    "    {\n",
    "        \"driving_style\": \"defensive\",\n",
    "        \"car_type\": \"family\",\n",
    "        \"rating\": car_type_data.loc[:, def_family].mean(axis=1),\n",
    "    }\n",
    ")\n",
    "\n",
    "agg_sports_data = pd.DataFrame(\n",
    "    {\n",
    "        \"driving_style\": \"aggressive\",\n",
    "        \"car_type\": \"sports\",\n",
    "        \"rating\": car_type_data.loc[:, agg_sports].mean(axis=1),\n",
    "    }\n",
    ")\n",
    "\n",
    "def_sports_data = pd.DataFrame(\n",
    "    {\n",
    "        \"driving_style\": \"defensive\",\n",
    "        \"car_type\": \"sports\",\n",
    "        \"rating\": car_type_data.loc[:, def_sports].mean(axis=1),\n",
    "    }\n",
    ")"
   ]
  },
  {
   "cell_type": "code",
   "execution_count": 115,
   "metadata": {},
   "outputs": [
    {
     "data": {
      "text/html": [
       "<div>\n",
       "<style scoped>\n",
       "    .dataframe tbody tr th:only-of-type {\n",
       "        vertical-align: middle;\n",
       "    }\n",
       "\n",
       "    .dataframe tbody tr th {\n",
       "        vertical-align: top;\n",
       "    }\n",
       "\n",
       "    .dataframe thead th {\n",
       "        text-align: right;\n",
       "    }\n",
       "</style>\n",
       "<table border=\"1\" class=\"dataframe\">\n",
       "  <thead>\n",
       "    <tr style=\"text-align: right;\">\n",
       "      <th></th>\n",
       "      <th>id</th>\n",
       "      <th>driving_style</th>\n",
       "      <th>car_type</th>\n",
       "      <th>rating</th>\n",
       "    </tr>\n",
       "  </thead>\n",
       "  <tbody>\n",
       "    <tr>\n",
       "      <th>50</th>\n",
       "      <td>41</td>\n",
       "      <td>defensive</td>\n",
       "      <td>sports</td>\n",
       "      <td>2.00</td>\n",
       "    </tr>\n",
       "    <tr>\n",
       "      <th>14</th>\n",
       "      <td>24</td>\n",
       "      <td>defensive</td>\n",
       "      <td>family</td>\n",
       "      <td>2.00</td>\n",
       "    </tr>\n",
       "    <tr>\n",
       "      <th>20</th>\n",
       "      <td>36</td>\n",
       "      <td>defensive</td>\n",
       "      <td>family</td>\n",
       "      <td>2.75</td>\n",
       "    </tr>\n",
       "    <tr>\n",
       "      <th>9</th>\n",
       "      <td>39</td>\n",
       "      <td>aggressive</td>\n",
       "      <td>family</td>\n",
       "      <td>2.00</td>\n",
       "    </tr>\n",
       "    <tr>\n",
       "      <th>21</th>\n",
       "      <td>38</td>\n",
       "      <td>defensive</td>\n",
       "      <td>family</td>\n",
       "      <td>3.50</td>\n",
       "    </tr>\n",
       "  </tbody>\n",
       "</table>\n",
       "</div>"
      ],
      "text/plain": [
       "    id driving_style car_type  rating\n",
       "50  41     defensive   sports    2.00\n",
       "14  24     defensive   family    2.00\n",
       "20  36     defensive   family    2.75\n",
       "9   39    aggressive   family    2.00\n",
       "21  38     defensive   family    3.50"
      ]
     },
     "execution_count": 115,
     "metadata": {},
     "output_type": "execute_result"
    }
   ],
   "source": [
    "car_type_data_unpivot = pd.concat(\n",
    "    [agg_family_data, def_family_data, agg_sports_data, def_sports_data]\n",
    ")\n",
    "car_type_data_unpivot = car_type_data_unpivot.reset_index().rename(columns={\"index\": \"id\"})\n",
    "car_type_data_unpivot.sample(5)"
   ]
  },
  {
   "cell_type": "code",
   "execution_count": 116,
   "metadata": {},
   "outputs": [],
   "source": [
    "car_type_data_unpivot.to_csv(\"working/cartype_data_pivot.csv\", index=False)"
   ]
  },
  {
   "cell_type": "code",
   "execution_count": null,
   "metadata": {},
   "outputs": [],
   "source": [
    "# make car type data usable for JASP\n",
    "columns = [\"aggressive\", \"defensive\"]\n",
    "jasp = pd.melt(car_type_data[[\"id\"] + columns], id_vars=\"id\", var_name=\"driving_style\", value_name=\"rating\")\n",
    "jasp.to_csv(\"working/cartype_jasp.csv\", index=False)"
   ]
  },
  {
   "cell_type": "code",
   "execution_count": 121,
   "metadata": {},
   "outputs": [],
   "source": [
    "driving_data.to_pickle(\"working/driving_data.pkl\")\n",
    "car_type_data.to_pickle(\"working/car_type_data.pkl\")\n",
    "car_type_data_unpivot.to_pickle(\"working/car_type_data_unpivot.pkl\")"
   ]
  },
  {
   "cell_type": "markdown",
   "metadata": {},
   "source": [
    "## Descriptive statistics"
   ]
  },
  {
   "cell_type": "markdown",
   "metadata": {},
   "source": [
    "### Demographics"
   ]
  },
  {
   "cell_type": "code",
   "execution_count": 35,
   "metadata": {},
   "outputs": [],
   "source": [
    "descriptive_columns = [\n",
    "    \"drivingxpcat\",     # driving in the last 12 months\n",
    "    \"educationyears\",\n",
    "    \"age\",\n",
    "    \"gender\",\n",
    "    \"drivingxp\",        # years of experience driving cars\n",
    "    \"educationlevel\",\n",
    "]"
   ]
  },
  {
   "cell_type": "code",
   "execution_count": 139,
   "metadata": {},
   "outputs": [],
   "source": [
    "car_type_descriptive_data = driving_data.loc[driving_data[\"condition\"] == 3, descriptive_columns]\n",
    "car_type_descriptive_data.shape"
   ]
  },
  {
   "cell_type": "code",
   "execution_count": 40,
   "metadata": {},
   "outputs": [
    {
     "name": "stdout",
     "output_type": "stream",
     "text": [
      "Descriptive data of car type condition (13, 6) \n",
      "\n",
      "Less than once a month.    0.384615\n",
      "Once a week.               0.307692\n",
      "Not at all.                0.153846\n",
      "Almost daily.              0.076923\n",
      "Once a month.              0.076923\n",
      "Name: drivingxpcat, dtype: float64 \n",
      "\n",
      "Female    0.615385\n",
      "Male      0.384615\n",
      "Name: gender, dtype: float64 \n",
      "\n",
      "Bachelor degree                         0.692308\n",
      "Masters/Diploma degree                  0.230769\n",
      "Vocational training/Berufsausbildung    0.076923\n",
      "Name: educationlevel, dtype: float64 \n",
      "\n"
     ]
    }
   ],
   "source": [
    "print(\"Descriptive data of car type condition\", car_type_descriptive_data.shape, \"\\n\")\n",
    "for nominal_column in [\"drivingxpcat\", \"gender\", \"educationlevel\"]:\n",
    "    print(car_type_descriptive_data[nominal_column].value_counts(normalize=True), \"\\n\")"
   ]
  },
  {
   "cell_type": "code",
   "execution_count": 41,
   "metadata": {},
   "outputs": [
    {
     "data": {
      "text/html": [
       "<div>\n",
       "<style scoped>\n",
       "    .dataframe tbody tr th:only-of-type {\n",
       "        vertical-align: middle;\n",
       "    }\n",
       "\n",
       "    .dataframe tbody tr th {\n",
       "        vertical-align: top;\n",
       "    }\n",
       "\n",
       "    .dataframe thead th {\n",
       "        text-align: right;\n",
       "    }\n",
       "</style>\n",
       "<table border=\"1\" class=\"dataframe\">\n",
       "  <thead>\n",
       "    <tr style=\"text-align: right;\">\n",
       "      <th></th>\n",
       "      <th>educationyears</th>\n",
       "      <th>age</th>\n",
       "      <th>drivingxp</th>\n",
       "    </tr>\n",
       "  </thead>\n",
       "  <tbody>\n",
       "    <tr>\n",
       "      <th>count</th>\n",
       "      <td>13.000000</td>\n",
       "      <td>12.000000</td>\n",
       "      <td>13.000000</td>\n",
       "    </tr>\n",
       "    <tr>\n",
       "      <th>mean</th>\n",
       "      <td>16.923077</td>\n",
       "      <td>28.833333</td>\n",
       "      <td>9.000000</td>\n",
       "    </tr>\n",
       "    <tr>\n",
       "      <th>std</th>\n",
       "      <td>2.361551</td>\n",
       "      <td>9.962049</td>\n",
       "      <td>10.824355</td>\n",
       "    </tr>\n",
       "    <tr>\n",
       "      <th>min</th>\n",
       "      <td>12.000000</td>\n",
       "      <td>21.000000</td>\n",
       "      <td>1.000000</td>\n",
       "    </tr>\n",
       "    <tr>\n",
       "      <th>25%</th>\n",
       "      <td>16.000000</td>\n",
       "      <td>24.000000</td>\n",
       "      <td>2.000000</td>\n",
       "    </tr>\n",
       "    <tr>\n",
       "      <th>50%</th>\n",
       "      <td>18.000000</td>\n",
       "      <td>26.000000</td>\n",
       "      <td>5.000000</td>\n",
       "    </tr>\n",
       "    <tr>\n",
       "      <th>75%</th>\n",
       "      <td>18.000000</td>\n",
       "      <td>28.500000</td>\n",
       "      <td>10.000000</td>\n",
       "    </tr>\n",
       "    <tr>\n",
       "      <th>max</th>\n",
       "      <td>20.000000</td>\n",
       "      <td>59.000000</td>\n",
       "      <td>41.000000</td>\n",
       "    </tr>\n",
       "  </tbody>\n",
       "</table>\n",
       "</div>"
      ],
      "text/plain": [
       "       educationyears        age  drivingxp\n",
       "count       13.000000  12.000000  13.000000\n",
       "mean        16.923077  28.833333   9.000000\n",
       "std          2.361551   9.962049  10.824355\n",
       "min         12.000000  21.000000   1.000000\n",
       "25%         16.000000  24.000000   2.000000\n",
       "50%         18.000000  26.000000   5.000000\n",
       "75%         18.000000  28.500000  10.000000\n",
       "max         20.000000  59.000000  41.000000"
      ]
     },
     "execution_count": 41,
     "metadata": {},
     "output_type": "execute_result"
    }
   ],
   "source": [
    "car_type_descriptive_data.describe()"
   ]
  },
  {
   "cell_type": "code",
   "execution_count": 42,
   "metadata": {},
   "outputs": [
    {
     "data": {
      "text/plain": [
       "21.0    1\n",
       "23.0    1\n",
       "24.0    2\n",
       "26.0    3\n",
       "27.0    1\n",
       "28.0    1\n",
       "30.0    1\n",
       "32.0    1\n",
       "59.0    1\n",
       "Name: age, dtype: int64"
      ]
     },
     "execution_count": 42,
     "metadata": {},
     "output_type": "execute_result"
    }
   ],
   "source": [
    "car_type_descriptive_data[\"age\"].value_counts().sort_index()"
   ]
  },
  {
   "cell_type": "code",
   "execution_count": 146,
   "metadata": {},
   "outputs": [
    {
     "name": "stdout",
     "output_type": "stream",
     "text": [
      "family: 2.576923076923077 sports: 2.855769230769231\n"
     ]
    }
   ],
   "source": [
    "family_mean = car_type_data_unpivot.loc[car_type_data_unpivot[\"car_type\"] == \"family\", \"rating\"].mean()\n",
    "sports_mean = car_type_data_unpivot.loc[car_type_data_unpivot[\"car_type\"] == \"sports\", \"rating\"].mean()\n",
    "\n",
    "print(\"family:\", family_mean, \"sports:\", sports_mean)"
   ]
  },
  {
   "cell_type": "markdown",
   "metadata": {},
   "source": [
    "## Results\n",
    "\n",
    "### t-test\n",
    "\n",
    "Comparing ratings of aggressive/defensive driving behaviours.\n",
    "\n",
    "First comparing means for the whole data.\n",
    "\n",
    "Then comparing means for the car type condition.\n",
    "\n",
    "We used independent samples t-test for both comparisons."
   ]
  },
  {
   "cell_type": "code",
   "execution_count": 43,
   "metadata": {},
   "outputs": [],
   "source": [
    "driving_data = pd.read_pickle(\"working/driving_data.pkl\")\n",
    "car_type_data = pd.read_pickle(\"working/car_type_data.pkl\")"
   ]
  },
  {
   "cell_type": "code",
   "execution_count": 52,
   "metadata": {},
   "outputs": [
    {
     "data": {
      "text/html": [
       "<div>\n",
       "<style scoped>\n",
       "    .dataframe tbody tr th:only-of-type {\n",
       "        vertical-align: middle;\n",
       "    }\n",
       "\n",
       "    .dataframe tbody tr th {\n",
       "        vertical-align: top;\n",
       "    }\n",
       "\n",
       "    .dataframe thead th {\n",
       "        text-align: right;\n",
       "    }\n",
       "</style>\n",
       "<table border=\"1\" class=\"dataframe\">\n",
       "  <thead>\n",
       "    <tr style=\"text-align: right;\">\n",
       "      <th></th>\n",
       "      <th>T</th>\n",
       "      <th>dof</th>\n",
       "      <th>alternative</th>\n",
       "      <th>p-val</th>\n",
       "      <th>CI95%</th>\n",
       "      <th>cohen-d</th>\n",
       "      <th>BF10</th>\n",
       "      <th>power</th>\n",
       "    </tr>\n",
       "  </thead>\n",
       "  <tbody>\n",
       "    <tr>\n",
       "      <th>T-test</th>\n",
       "      <td>0.091332</td>\n",
       "      <td>84</td>\n",
       "      <td>greater</td>\n",
       "      <td>0.463723</td>\n",
       "      <td>[-0.25, inf]</td>\n",
       "      <td>0.019697</td>\n",
       "      <td>0.452</td>\n",
       "      <td>0.060062</td>\n",
       "    </tr>\n",
       "  </tbody>\n",
       "</table>\n",
       "</div>"
      ],
      "text/plain": [
       "               T  dof alternative     p-val         CI95%   cohen-d   BF10  \\\n",
       "T-test  0.091332   84     greater  0.463723  [-0.25, inf]  0.019697  0.452   \n",
       "\n",
       "           power  \n",
       "T-test  0.060062  "
      ]
     },
     "execution_count": 52,
     "metadata": {},
     "output_type": "execute_result"
    }
   ],
   "source": [
    "# perform t test on driving data\n",
    "pg.ttest(driving_data[\"aggressive\"], driving_data[\"defensive\"], alternative=\"greater\")\n",
    "# pg.ttest(driving_data[\"aggressive\"], driving_data[\"defensive\"])"
   ]
  },
  {
   "cell_type": "code",
   "execution_count": 48,
   "metadata": {},
   "outputs": [
    {
     "data": {
      "text/plain": [
       "0.014534883720930036"
      ]
     },
     "execution_count": 48,
     "metadata": {},
     "output_type": "execute_result"
    }
   ],
   "source": [
    "driving_data[\"aggressive\"].mean() - driving_data[\"defensive\"].mean()"
   ]
  },
  {
   "cell_type": "code",
   "execution_count": 46,
   "metadata": {},
   "outputs": [
    {
     "data": {
      "text/html": [
       "<div>\n",
       "<style scoped>\n",
       "    .dataframe tbody tr th:only-of-type {\n",
       "        vertical-align: middle;\n",
       "    }\n",
       "\n",
       "    .dataframe tbody tr th {\n",
       "        vertical-align: top;\n",
       "    }\n",
       "\n",
       "    .dataframe thead th {\n",
       "        text-align: right;\n",
       "    }\n",
       "</style>\n",
       "<table border=\"1\" class=\"dataframe\">\n",
       "  <thead>\n",
       "    <tr style=\"text-align: right;\">\n",
       "      <th></th>\n",
       "      <th>T</th>\n",
       "      <th>dof</th>\n",
       "      <th>alternative</th>\n",
       "      <th>p-val</th>\n",
       "      <th>CI95%</th>\n",
       "      <th>cohen-d</th>\n",
       "      <th>BF10</th>\n",
       "      <th>power</th>\n",
       "    </tr>\n",
       "  </thead>\n",
       "  <tbody>\n",
       "    <tr>\n",
       "      <th>T-test</th>\n",
       "      <td>-0.559925</td>\n",
       "      <td>24</td>\n",
       "      <td>greater</td>\n",
       "      <td>0.70964</td>\n",
       "      <td>[-0.58, inf]</td>\n",
       "      <td>0.219621</td>\n",
       "      <td>0.815</td>\n",
       "      <td>0.014287</td>\n",
       "    </tr>\n",
       "  </tbody>\n",
       "</table>\n",
       "</div>"
      ],
      "text/plain": [
       "               T  dof alternative    p-val         CI95%   cohen-d   BF10  \\\n",
       "T-test -0.559925   24     greater  0.70964  [-0.58, inf]  0.219621  0.815   \n",
       "\n",
       "           power  \n",
       "T-test  0.014287  "
      ]
     },
     "execution_count": 46,
     "metadata": {},
     "output_type": "execute_result"
    }
   ],
   "source": [
    "# perform t test on car_type_data\n",
    "pg.ttest(car_type_data[\"aggressive\"], car_type_data[\"defensive\"], alternative=\"greater\")"
   ]
  },
  {
   "cell_type": "markdown",
   "metadata": {},
   "source": [
    "### Repeated measures ANOVA"
   ]
  },
  {
   "cell_type": "code",
   "execution_count": 118,
   "metadata": {},
   "outputs": [
    {
     "data": {
      "text/html": [
       "<div>\n",
       "<style scoped>\n",
       "    .dataframe tbody tr th:only-of-type {\n",
       "        vertical-align: middle;\n",
       "    }\n",
       "\n",
       "    .dataframe tbody tr th {\n",
       "        vertical-align: top;\n",
       "    }\n",
       "\n",
       "    .dataframe thead th {\n",
       "        text-align: right;\n",
       "    }\n",
       "</style>\n",
       "<table border=\"1\" class=\"dataframe\">\n",
       "  <thead>\n",
       "    <tr style=\"text-align: right;\">\n",
       "      <th></th>\n",
       "      <th>id</th>\n",
       "      <th>driving_style</th>\n",
       "      <th>car_type</th>\n",
       "      <th>rating</th>\n",
       "    </tr>\n",
       "  </thead>\n",
       "  <tbody>\n",
       "    <tr>\n",
       "      <th>0</th>\n",
       "      <td>1</td>\n",
       "      <td>aggressive</td>\n",
       "      <td>family</td>\n",
       "      <td>2.25</td>\n",
       "    </tr>\n",
       "    <tr>\n",
       "      <th>1</th>\n",
       "      <td>24</td>\n",
       "      <td>aggressive</td>\n",
       "      <td>family</td>\n",
       "      <td>3.50</td>\n",
       "    </tr>\n",
       "    <tr>\n",
       "      <th>2</th>\n",
       "      <td>25</td>\n",
       "      <td>aggressive</td>\n",
       "      <td>family</td>\n",
       "      <td>3.25</td>\n",
       "    </tr>\n",
       "    <tr>\n",
       "      <th>3</th>\n",
       "      <td>27</td>\n",
       "      <td>aggressive</td>\n",
       "      <td>family</td>\n",
       "      <td>1.00</td>\n",
       "    </tr>\n",
       "    <tr>\n",
       "      <th>4</th>\n",
       "      <td>30</td>\n",
       "      <td>aggressive</td>\n",
       "      <td>family</td>\n",
       "      <td>2.50</td>\n",
       "    </tr>\n",
       "  </tbody>\n",
       "</table>\n",
       "</div>"
      ],
      "text/plain": [
       "   id driving_style car_type  rating\n",
       "0   1    aggressive   family    2.25\n",
       "1  24    aggressive   family    3.50\n",
       "2  25    aggressive   family    3.25\n",
       "3  27    aggressive   family    1.00\n",
       "4  30    aggressive   family    2.50"
      ]
     },
     "execution_count": 118,
     "metadata": {},
     "output_type": "execute_result"
    }
   ],
   "source": [
    "car_type_data_unpivot.head()"
   ]
  },
  {
   "cell_type": "code",
   "execution_count": 147,
   "metadata": {},
   "outputs": [
    {
     "name": "stdout",
     "output_type": "stream",
     "text": [
      "                       Anova\n",
      "====================================================\n",
      "                       F Value Num DF  Den DF Pr > F\n",
      "----------------------------------------------------\n",
      "driving_style           0.3384 1.0000 12.0000 0.5715\n",
      "car_type                3.6913 1.0000 12.0000 0.0788\n",
      "driving_style:car_type  0.4558 1.0000 12.0000 0.5124\n",
      "====================================================\n",
      "\n"
     ]
    }
   ],
   "source": [
    "print(\n",
    "    AnovaRM(\n",
    "        data=car_type_data_unpivot, depvar=\"rating\", subject=\"id\", within=[\"driving_style\", \"car_type\"]\n",
    "    ).fit()\n",
    ")"
   ]
  },
  {
   "cell_type": "code",
   "execution_count": 148,
   "metadata": {},
   "outputs": [
    {
     "data": {
      "text/html": [
       "<div>\n",
       "<style scoped>\n",
       "    .dataframe tbody tr th:only-of-type {\n",
       "        vertical-align: middle;\n",
       "    }\n",
       "\n",
       "    .dataframe tbody tr th {\n",
       "        vertical-align: top;\n",
       "    }\n",
       "\n",
       "    .dataframe thead th {\n",
       "        text-align: right;\n",
       "    }\n",
       "</style>\n",
       "<table border=\"1\" class=\"dataframe\">\n",
       "  <thead>\n",
       "    <tr style=\"text-align: right;\">\n",
       "      <th></th>\n",
       "      <th>id</th>\n",
       "      <th>agg_family</th>\n",
       "      <th>def_family</th>\n",
       "      <th>agg_sports</th>\n",
       "      <th>def_sports</th>\n",
       "    </tr>\n",
       "  </thead>\n",
       "  <tbody>\n",
       "    <tr>\n",
       "      <th>0</th>\n",
       "      <td>1</td>\n",
       "      <td>2.25</td>\n",
       "      <td>2.25</td>\n",
       "      <td>2.75</td>\n",
       "      <td>3.25</td>\n",
       "    </tr>\n",
       "    <tr>\n",
       "      <th>1</th>\n",
       "      <td>24</td>\n",
       "      <td>3.50</td>\n",
       "      <td>2.00</td>\n",
       "      <td>2.75</td>\n",
       "      <td>2.50</td>\n",
       "    </tr>\n",
       "    <tr>\n",
       "      <th>2</th>\n",
       "      <td>25</td>\n",
       "      <td>3.25</td>\n",
       "      <td>3.75</td>\n",
       "      <td>4.00</td>\n",
       "      <td>3.75</td>\n",
       "    </tr>\n",
       "    <tr>\n",
       "      <th>3</th>\n",
       "      <td>27</td>\n",
       "      <td>1.00</td>\n",
       "      <td>3.25</td>\n",
       "      <td>2.25</td>\n",
       "      <td>3.75</td>\n",
       "    </tr>\n",
       "    <tr>\n",
       "      <th>4</th>\n",
       "      <td>30</td>\n",
       "      <td>2.50</td>\n",
       "      <td>1.75</td>\n",
       "      <td>2.75</td>\n",
       "      <td>2.25</td>\n",
       "    </tr>\n",
       "    <tr>\n",
       "      <th>5</th>\n",
       "      <td>31</td>\n",
       "      <td>1.25</td>\n",
       "      <td>1.50</td>\n",
       "      <td>2.00</td>\n",
       "      <td>3.00</td>\n",
       "    </tr>\n",
       "    <tr>\n",
       "      <th>6</th>\n",
       "      <td>32</td>\n",
       "      <td>3.50</td>\n",
       "      <td>3.75</td>\n",
       "      <td>2.50</td>\n",
       "      <td>2.75</td>\n",
       "    </tr>\n",
       "    <tr>\n",
       "      <th>7</th>\n",
       "      <td>36</td>\n",
       "      <td>3.25</td>\n",
       "      <td>2.75</td>\n",
       "      <td>3.00</td>\n",
       "      <td>3.00</td>\n",
       "    </tr>\n",
       "    <tr>\n",
       "      <th>8</th>\n",
       "      <td>38</td>\n",
       "      <td>1.75</td>\n",
       "      <td>3.50</td>\n",
       "      <td>2.25</td>\n",
       "      <td>3.00</td>\n",
       "    </tr>\n",
       "    <tr>\n",
       "      <th>9</th>\n",
       "      <td>39</td>\n",
       "      <td>2.00</td>\n",
       "      <td>2.00</td>\n",
       "      <td>2.75</td>\n",
       "      <td>2.00</td>\n",
       "    </tr>\n",
       "    <tr>\n",
       "      <th>10</th>\n",
       "      <td>40</td>\n",
       "      <td>2.75</td>\n",
       "      <td>3.50</td>\n",
       "      <td>2.75</td>\n",
       "      <td>4.25</td>\n",
       "    </tr>\n",
       "    <tr>\n",
       "      <th>11</th>\n",
       "      <td>41</td>\n",
       "      <td>3.00</td>\n",
       "      <td>1.50</td>\n",
       "      <td>3.00</td>\n",
       "      <td>2.00</td>\n",
       "    </tr>\n",
       "    <tr>\n",
       "      <th>12</th>\n",
       "      <td>42</td>\n",
       "      <td>3.00</td>\n",
       "      <td>2.50</td>\n",
       "      <td>3.00</td>\n",
       "      <td>3.00</td>\n",
       "    </tr>\n",
       "  </tbody>\n",
       "</table>\n",
       "</div>"
      ],
      "text/plain": [
       "    id  agg_family  def_family  agg_sports  def_sports\n",
       "0    1        2.25        2.25        2.75        3.25\n",
       "1   24        3.50        2.00        2.75        2.50\n",
       "2   25        3.25        3.75        4.00        3.75\n",
       "3   27        1.00        3.25        2.25        3.75\n",
       "4   30        2.50        1.75        2.75        2.25\n",
       "5   31        1.25        1.50        2.00        3.00\n",
       "6   32        3.50        3.75        2.50        2.75\n",
       "7   36        3.25        2.75        3.00        3.00\n",
       "8   38        1.75        3.50        2.25        3.00\n",
       "9   39        2.00        2.00        2.75        2.00\n",
       "10  40        2.75        3.50        2.75        4.25\n",
       "11  41        3.00        1.50        3.00        2.00\n",
       "12  42        3.00        2.50        3.00        3.00"
      ]
     },
     "execution_count": 148,
     "metadata": {},
     "output_type": "execute_result"
    }
   ],
   "source": [
    "car_type_data"
   ]
  },
  {
   "cell_type": "code",
   "execution_count": null,
   "metadata": {},
   "outputs": [],
   "source": []
  }
 ],
 "metadata": {
  "kernelspec": {
   "display_name": "Python 3.10.5 ('venv': venv)",
   "language": "python",
   "name": "python3"
  },
  "language_info": {
   "codemirror_mode": {
    "name": "ipython",
    "version": 3
   },
   "file_extension": ".py",
   "mimetype": "text/x-python",
   "name": "python",
   "nbconvert_exporter": "python",
   "pygments_lexer": "ipython3",
   "version": "3.10.5"
  },
  "orig_nbformat": 4,
  "vscode": {
   "interpreter": {
    "hash": "6a05a56568b3360b44bc7e2de2c6e81d80d56995c7f7257222e51d63f128813a"
   }
  }
 },
 "nbformat": 4,
 "nbformat_minor": 2
}
