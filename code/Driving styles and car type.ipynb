{
 "cells": [
  {
   "cell_type": "markdown",
   "metadata": {},
   "source": [
    "# Driving styles and car type"
   ]
  },
  {
   "cell_type": "code",
   "execution_count": 3,
   "metadata": {},
   "outputs": [],
   "source": [
    "import os\n",
    "os.chdir('../data')"
   ]
  },
  {
   "cell_type": "code",
   "execution_count": 4,
   "metadata": {},
   "outputs": [],
   "source": [
    "import scipy\n",
    "import numpy as np\n",
    "import pandas as pd\n",
    "import pingouin as pg\n",
    "import matplotlib.pyplot as plt\n",
    "from statsmodels.stats.anova import AnovaRM"
   ]
  },
  {
   "cell_type": "code",
   "execution_count": 119,
   "metadata": {},
   "outputs": [],
   "source": [
    "driving_data = pd.read_csv(\"input/results-survey528393.csv\")"
   ]
  },
  {
   "cell_type": "code",
   "execution_count": 120,
   "metadata": {},
   "outputs": [
    {
     "name": "stdout",
     "output_type": "stream",
     "text": [
      "Driving data (39, 334)\n"
     ]
    }
   ],
   "source": [
    "print(\"Driving data\", driving_data.shape)"
   ]
  },
  {
   "cell_type": "markdown",
   "metadata": {},
   "source": [
    "## Preprocessing\n",
    "\n",
    "Get results from the driving style scale that each participant responded."
   ]
  },
  {
   "cell_type": "code",
   "execution_count": 121,
   "metadata": {},
   "outputs": [],
   "source": [
    "# group column names of aggressive and defensive conditions.\n",
    "aggressive = driving_data.columns[driving_data.columns.str.fullmatch(\"agg[^2]+\\[SQ00[1-2]\\]\")]\n",
    "aggressive2 = driving_data.columns[driving_data.columns.str.fullmatch(\"agg.+2\\[SQ00[1-2]\\]\")]\n",
    "\n",
    "defensive = driving_data.columns[driving_data.columns.str.fullmatch(\"def[^2]+\\[SQ00[1-2]\\]\")]\n",
    "defensive2 = driving_data.columns[driving_data.columns.str.fullmatch(\"def.+2\\[SQ00[1-2]\\]\")]"
   ]
  },
  {
   "cell_type": "code",
   "execution_count": 122,
   "metadata": {},
   "outputs": [
    {
     "data": {
      "text/plain": [
       "Index(['aggpassenger[SQ001]', 'aggpassenger[SQ002]', 'aggdriver[SQ001]',\n",
       "       'aggdriver[SQ002]', 'aggrural[SQ001]', 'aggrural[SQ002]',\n",
       "       'aggurban[SQ001]', 'aggurban[SQ002]', 'aggfamily[SQ001]',\n",
       "       'aggfamily[SQ002]', 'aggsports[SQ001]', 'aggsports[SQ002]'],\n",
       "      dtype='object')"
      ]
     },
     "execution_count": 122,
     "metadata": {},
     "output_type": "execute_result"
    }
   ],
   "source": [
    "aggressive"
   ]
  },
  {
   "cell_type": "code",
   "execution_count": 123,
   "metadata": {},
   "outputs": [],
   "source": [
    "driving_data.loc[:, \"aggmean\"] = driving_data.loc[:, aggressive].mean(axis=1)\n",
    "driving_data.loc[:, \"aggmean2\"] = driving_data.loc[:, aggressive2].mean(axis=1)\n",
    "driving_data.loc[:, \"defmean\"] = driving_data.loc[:, defensive].mean(axis=1)\n",
    "driving_data.loc[:, \"defmean2\"] = driving_data.loc[:, defensive2].mean(axis=1)\n",
    "\n",
    "driving_data.loc[:, \"assertive\"] = driving_data.loc[:, [\"aggmean\", \"aggmean2\"]].mean(axis=1)    # it is called \"assertive\" in the ref paper.\n",
    "driving_data.loc[:, \"defensive\"] = driving_data.loc[:, [\"defmean\", \"defmean2\"]].mean(axis=1)"
   ]
  },
  {
   "cell_type": "code",
   "execution_count": 124,
   "metadata": {},
   "outputs": [],
   "source": [
    "# keep only condition = 3, which explores car type\n",
    "car_type_data = driving_data[driving_data[\"condition\"] == 3]\n",
    "\n",
    "# delete columns with all null values\n",
    "car_type_data = driving_data.dropna(axis=1, how=\"all\")\n"
   ]
  },
  {
   "cell_type": "code",
   "execution_count": 125,
   "metadata": {},
   "outputs": [],
   "source": [
    "driving_data.to_pickle(\"working/driving_data.pkl\")\n",
    "car_type_data.to_pickle(\"working/car_type_data.pkl\")\n"
   ]
  },
  {
   "cell_type": "markdown",
   "metadata": {},
   "source": [
    "## Descriptive statistics"
   ]
  },
  {
   "cell_type": "code",
   "execution_count": 126,
   "metadata": {},
   "outputs": [],
   "source": [
    "descriptive_columns = [\n",
    "    \"drivingxpcat\",\n",
    "    \"educationyears\",\n",
    "    \"age\",\n",
    "    \"gender\",\n",
    "    \"drivingxp\",\n",
    "    \"educationlevel\",\n",
    "]"
   ]
  },
  {
   "cell_type": "code",
   "execution_count": 118,
   "metadata": {},
   "outputs": [],
   "source": [
    "driving_data = pd.read_pickle(\"working/driving_data.pkl\")\n",
    "car_type_data = pd.read_pickle(\"working/car_type_data.pkl\")"
   ]
  },
  {
   "cell_type": "code",
   "execution_count": 40,
   "metadata": {},
   "outputs": [
    {
     "data": {
      "text/html": [
       "<div>\n",
       "<style scoped>\n",
       "    .dataframe tbody tr th:only-of-type {\n",
       "        vertical-align: middle;\n",
       "    }\n",
       "\n",
       "    .dataframe tbody tr th {\n",
       "        vertical-align: top;\n",
       "    }\n",
       "\n",
       "    .dataframe thead th {\n",
       "        text-align: right;\n",
       "    }\n",
       "</style>\n",
       "<table border=\"1\" class=\"dataframe\">\n",
       "  <thead>\n",
       "    <tr style=\"text-align: right;\">\n",
       "      <th></th>\n",
       "      <th>id</th>\n",
       "      <th>submitdate</th>\n",
       "      <th>lastpage</th>\n",
       "      <th>startlanguage</th>\n",
       "      <th>seed</th>\n",
       "      <th>startdate</th>\n",
       "      <th>datestamp</th>\n",
       "      <th>consent</th>\n",
       "      <th>consent2</th>\n",
       "      <th>generatecode</th>\n",
       "      <th>...</th>\n",
       "      <th>BFI10Time</th>\n",
       "      <th>groupTime182</th>\n",
       "      <th>TraitOfAnx1Time</th>\n",
       "      <th>groupTime145</th>\n",
       "      <th>SensationArrayTime</th>\n",
       "      <th>TrustArrayTime</th>\n",
       "      <th>groupTime177</th>\n",
       "      <th>participationhoursTime</th>\n",
       "      <th>groupTime188</th>\n",
       "      <th>FeedbackTime</th>\n",
       "    </tr>\n",
       "  </thead>\n",
       "  <tbody>\n",
       "    <tr>\n",
       "      <th>0</th>\n",
       "      <td>57</td>\n",
       "      <td>2022-06-19 20:47:02</td>\n",
       "      <td>47</td>\n",
       "      <td>en</td>\n",
       "      <td>1350102654</td>\n",
       "      <td>2022-06-19 20:20:56</td>\n",
       "      <td>2022-06-19 20:47:02</td>\n",
       "      <td>NaN</td>\n",
       "      <td>I agree.</td>\n",
       "      <td>JJ08H</td>\n",
       "      <td>...</td>\n",
       "      <td>NaN</td>\n",
       "      <td>NaN</td>\n",
       "      <td>125.43</td>\n",
       "      <td>NaN</td>\n",
       "      <td>NaN</td>\n",
       "      <td>NaN</td>\n",
       "      <td>NaN</td>\n",
       "      <td>3.54</td>\n",
       "      <td>NaN</td>\n",
       "      <td>91.35</td>\n",
       "    </tr>\n",
       "    <tr>\n",
       "      <th>1</th>\n",
       "      <td>67</td>\n",
       "      <td>2022-06-20 14:47:37</td>\n",
       "      <td>47</td>\n",
       "      <td>en</td>\n",
       "      <td>349158379</td>\n",
       "      <td>2022-06-20 14:34:51</td>\n",
       "      <td>2022-06-20 14:47:37</td>\n",
       "      <td>NaN</td>\n",
       "      <td>I agree.</td>\n",
       "      <td>FN06M</td>\n",
       "      <td>...</td>\n",
       "      <td>40.97</td>\n",
       "      <td>NaN</td>\n",
       "      <td>NaN</td>\n",
       "      <td>NaN</td>\n",
       "      <td>NaN</td>\n",
       "      <td>NaN</td>\n",
       "      <td>NaN</td>\n",
       "      <td>264.72</td>\n",
       "      <td>NaN</td>\n",
       "      <td>10.22</td>\n",
       "    </tr>\n",
       "    <tr>\n",
       "      <th>2</th>\n",
       "      <td>101</td>\n",
       "      <td>2022-06-20 19:15:32</td>\n",
       "      <td>47</td>\n",
       "      <td>en</td>\n",
       "      <td>1846708769</td>\n",
       "      <td>2022-06-20 19:01:06</td>\n",
       "      <td>2022-06-20 19:15:32</td>\n",
       "      <td>NaN</td>\n",
       "      <td>I agree.</td>\n",
       "      <td>RL06D</td>\n",
       "      <td>...</td>\n",
       "      <td>NaN</td>\n",
       "      <td>NaN</td>\n",
       "      <td>71.31</td>\n",
       "      <td>NaN</td>\n",
       "      <td>NaN</td>\n",
       "      <td>NaN</td>\n",
       "      <td>NaN</td>\n",
       "      <td>45.64</td>\n",
       "      <td>NaN</td>\n",
       "      <td>23.86</td>\n",
       "    </tr>\n",
       "    <tr>\n",
       "      <th>3</th>\n",
       "      <td>104</td>\n",
       "      <td>2022-06-20 22:18:28</td>\n",
       "      <td>47</td>\n",
       "      <td>en</td>\n",
       "      <td>452194193</td>\n",
       "      <td>2022-06-20 21:57:43</td>\n",
       "      <td>2022-06-20 22:18:28</td>\n",
       "      <td>NaN</td>\n",
       "      <td>I agree.</td>\n",
       "      <td>CH01W</td>\n",
       "      <td>...</td>\n",
       "      <td>NaN</td>\n",
       "      <td>NaN</td>\n",
       "      <td>105.07</td>\n",
       "      <td>NaN</td>\n",
       "      <td>NaN</td>\n",
       "      <td>NaN</td>\n",
       "      <td>NaN</td>\n",
       "      <td>19.25</td>\n",
       "      <td>NaN</td>\n",
       "      <td>5.31</td>\n",
       "    </tr>\n",
       "    <tr>\n",
       "      <th>4</th>\n",
       "      <td>106</td>\n",
       "      <td>2022-06-20 22:25:31</td>\n",
       "      <td>47</td>\n",
       "      <td>en</td>\n",
       "      <td>1969376775</td>\n",
       "      <td>2022-06-20 22:14:37</td>\n",
       "      <td>2022-06-20 22:25:31</td>\n",
       "      <td>NaN</td>\n",
       "      <td>I agree.</td>\n",
       "      <td>FA12T</td>\n",
       "      <td>...</td>\n",
       "      <td>NaN</td>\n",
       "      <td>NaN</td>\n",
       "      <td>61.35</td>\n",
       "      <td>NaN</td>\n",
       "      <td>NaN</td>\n",
       "      <td>NaN</td>\n",
       "      <td>NaN</td>\n",
       "      <td>17.70</td>\n",
       "      <td>NaN</td>\n",
       "      <td>7.78</td>\n",
       "    </tr>\n",
       "  </tbody>\n",
       "</table>\n",
       "<p>5 rows × 334 columns</p>\n",
       "</div>"
      ],
      "text/plain": [
       "    id           submitdate  lastpage startlanguage        seed  \\\n",
       "0   57  2022-06-19 20:47:02        47            en  1350102654   \n",
       "1   67  2022-06-20 14:47:37        47            en   349158379   \n",
       "2  101  2022-06-20 19:15:32        47            en  1846708769   \n",
       "3  104  2022-06-20 22:18:28        47            en   452194193   \n",
       "4  106  2022-06-20 22:25:31        47            en  1969376775   \n",
       "\n",
       "             startdate            datestamp  consent  consent2 generatecode  \\\n",
       "0  2022-06-19 20:20:56  2022-06-19 20:47:02      NaN  I agree.        JJ08H   \n",
       "1  2022-06-20 14:34:51  2022-06-20 14:47:37      NaN  I agree.        FN06M   \n",
       "2  2022-06-20 19:01:06  2022-06-20 19:15:32      NaN  I agree.        RL06D   \n",
       "3  2022-06-20 21:57:43  2022-06-20 22:18:28      NaN  I agree.        CH01W   \n",
       "4  2022-06-20 22:14:37  2022-06-20 22:25:31      NaN  I agree.        FA12T   \n",
       "\n",
       "   ...  BFI10Time groupTime182 TraitOfAnx1Time groupTime145  \\\n",
       "0  ...        NaN          NaN          125.43          NaN   \n",
       "1  ...      40.97          NaN             NaN          NaN   \n",
       "2  ...        NaN          NaN           71.31          NaN   \n",
       "3  ...        NaN          NaN          105.07          NaN   \n",
       "4  ...        NaN          NaN           61.35          NaN   \n",
       "\n",
       "  SensationArrayTime  TrustArrayTime  groupTime177  participationhoursTime  \\\n",
       "0                NaN             NaN           NaN                    3.54   \n",
       "1                NaN             NaN           NaN                  264.72   \n",
       "2                NaN             NaN           NaN                   45.64   \n",
       "3                NaN             NaN           NaN                   19.25   \n",
       "4                NaN             NaN           NaN                   17.70   \n",
       "\n",
       "   groupTime188  FeedbackTime  \n",
       "0           NaN         91.35  \n",
       "1           NaN         10.22  \n",
       "2           NaN         23.86  \n",
       "3           NaN          5.31  \n",
       "4           NaN          7.78  \n",
       "\n",
       "[5 rows x 334 columns]"
      ]
     },
     "execution_count": 40,
     "metadata": {},
     "output_type": "execute_result"
    }
   ],
   "source": [
    "driving_data.head()"
   ]
  },
  {
   "cell_type": "markdown",
   "metadata": {},
   "source": [
    "**Conditions**\n",
    "\n",
    "[]"
   ]
  },
  {
   "cell_type": "markdown",
   "metadata": {},
   "source": [
    "## Plot the data"
   ]
  },
  {
   "cell_type": "code",
   "execution_count": 59,
   "metadata": {},
   "outputs": [],
   "source": [
    "# confidence interval of paired t-test\n",
    "\"difference in means +- t(n-1, 0.05) * se(mean) / sqrt(n)\"\n",
    "\n",
    "\n",
    "def t_ci(data, alpha=0.05):\n",
    "    t, p = scipy.stats.ttest_rel(data[0], data[1])\n",
    "    ci = scipy.stats.t.ppf(1-alpha/2, np.abs(t))    # is this the same? (automatically generated)\n",
    "    return ci\n",
    "\n",
    "# modify this\n",
    "def confidence_interval_bar(data, confidence=0.95):\n",
    "    a = 1.0 * np.array(data)\n",
    "    n = len(a)\n",
    "    m, se = np.mean(a), scipy.stats.sem(a)\n",
    "    error_bar = se * scipy.stats.t.ppf((1 + confidence) / 2., n-1)\n",
    "    return error_bar"
   ]
  },
  {
   "cell_type": "code",
   "execution_count": 72,
   "metadata": {},
   "outputs": [
    {
     "data": {
      "image/png": "[encoded data removed]",
      "text/plain": [
       "<Figure size 504x288 with 2 Axes>"
      ]
     },
     "metadata": {
      "needs_background": "light"
     },
     "output_type": "display_data"
    }
   ],
   "source": [
    "# Build the plot\n",
    "figure, axis = plt.subplots(1, 2, figsize=(7, 4))\n",
    "\n",
    "# Reaction times\n",
    "consistent_mean = np.mean(reaction_times[\"NC\"])\n",
    "inconsistent_mean = np.mean(reaction_times[\"NI\"])\n",
    "\n",
    "consistent_std = np.std(reaction_times[\"NC\"])\n",
    "inconsistent_std = np.std(reaction_times[\"NI\"])\n",
    "\n",
    "conditions = [\"Consistent\", \"Inconsistent\"]\n",
    "x_pos = np.arange(len(conditions))\n",
    "CTEs = [consistent_mean, inconsistent_mean]\n",
    "error = [confidence_interval_bar(reaction_times[\"NC\"]), confidence_interval_bar(reaction_times[\"NI\"])]\n",
    "\n",
    "axis[0].bar(x_pos, CTEs, yerr=error, align='center', alpha=0.5, ecolor='black', capsize=10, width=0.6)\n",
    "axis[0].set_xlabel('Condition')\n",
    "axis[0].set_ylabel('Reaction time (ms)')\n",
    "axis[0].set_xticks(x_pos)\n",
    "axis[0].set_xticklabels(conditions)\n",
    "axis[0].set_title('Simon Effect (Reaction Times)')\n",
    "\n",
    "# Error rates\n",
    "consistent_mean = np.mean(error_rates[\"NC\"])\n",
    "inconsistent_mean = np.mean(error_rates[\"NI\"])\n",
    "\n",
    "consistent_std = np.std(error_rates[\"NC\"])\n",
    "inconsistent_std = np.std(error_rates[\"NI\"])\n",
    "\n",
    "conditions = [\"Consistent\", \"Inconsistent\"]\n",
    "x_pos = np.arange(len(conditions))\n",
    "CTEs = [consistent_mean, inconsistent_mean]\n",
    "error = [confidence_interval_bar(error_rates[\"NC\"]), confidence_interval_bar(error_rates[\"NI\"])]\n",
    "\n",
    "axis[1].bar(x_pos, CTEs, yerr=error, align='center', alpha=0.5, ecolor='black', capsize=10, width=0.6)\n",
    "axis[1].set_xlabel('Condition')\n",
    "axis[1].set_ylabel('Error rate')\n",
    "axis[1].set_xticks(x_pos)\n",
    "axis[1].set_xticklabels(conditions)\n",
    "axis[1].set_title('Simon Effect (Error Rates)')\n",
    "\n",
    "plt.tight_layout()\n",
    "plt.show()"
   ]
  },
  {
   "cell_type": "markdown",
   "metadata": {},
   "source": [
    "## Repeated measures ANOVA??"
   ]
  },
  {
   "cell_type": "code",
   "execution_count": 46,
   "metadata": {},
   "outputs": [
    {
     "data": {
      "text/html": [
       "<div>\n",
       "<style scoped>\n",
       "    .dataframe tbody tr th:only-of-type {\n",
       "        vertical-align: middle;\n",
       "    }\n",
       "\n",
       "    .dataframe tbody tr th {\n",
       "        vertical-align: top;\n",
       "    }\n",
       "\n",
       "    .dataframe thead th {\n",
       "        text-align: right;\n",
       "    }\n",
       "</style>\n",
       "<table border=\"1\" class=\"dataframe\">\n",
       "  <thead>\n",
       "    <tr style=\"text-align: right;\">\n",
       "      <th></th>\n",
       "      <th>subject</th>\n",
       "      <th>variable</th>\n",
       "      <th>value</th>\n",
       "    </tr>\n",
       "  </thead>\n",
       "  <tbody>\n",
       "    <tr>\n",
       "      <th>4</th>\n",
       "      <td>5</td>\n",
       "      <td>NC</td>\n",
       "      <td>376.979452</td>\n",
       "    </tr>\n",
       "    <tr>\n",
       "      <th>18</th>\n",
       "      <td>8</td>\n",
       "      <td>NI</td>\n",
       "      <td>375.634328</td>\n",
       "    </tr>\n",
       "    <tr>\n",
       "      <th>16</th>\n",
       "      <td>6</td>\n",
       "      <td>NI</td>\n",
       "      <td>448.746154</td>\n",
       "    </tr>\n",
       "    <tr>\n",
       "      <th>15</th>\n",
       "      <td>5</td>\n",
       "      <td>NI</td>\n",
       "      <td>413.185714</td>\n",
       "    </tr>\n",
       "    <tr>\n",
       "      <th>17</th>\n",
       "      <td>7</td>\n",
       "      <td>NI</td>\n",
       "      <td>462.722628</td>\n",
       "    </tr>\n",
       "  </tbody>\n",
       "</table>\n",
       "</div>"
      ],
      "text/plain": [
       "    subject variable       value\n",
       "4         5       NC  376.979452\n",
       "18        8       NI  375.634328\n",
       "16        6       NI  448.746154\n",
       "15        5       NI  413.185714\n",
       "17        7       NI  462.722628"
      ]
     },
     "execution_count": 46,
     "metadata": {},
     "output_type": "execute_result"
    }
   ],
   "source": [
    "# unpivot dataframes\n",
    "reaction_times = pd.melt(reaction_times, id_vars=[\"subject\"], value_vars=[\"NC\", \"NI\"])\n",
    "error_rates = pd.melt(error_rates, id_vars=[\"subject\"], value_vars=[\"NC\", \"NI\"])\n",
    "reaction_times.sample(5)"
   ]
  },
  {
   "cell_type": "code",
   "execution_count": 12,
   "metadata": {},
   "outputs": [
    {
     "name": "stdout",
     "output_type": "stream",
     "text": [
      "Reaction times:\n",
      "                Anova\n",
      "======================================\n",
      "         F Value Num DF  Den DF Pr > F\n",
      "--------------------------------------\n",
      "variable 21.8033 1.0000 10.0000 0.0009\n",
      "======================================\n",
      "\n",
      "Error rates:\n",
      "                Anova\n",
      "======================================\n",
      "         F Value Num DF  Den DF Pr > F\n",
      "--------------------------------------\n",
      "variable 14.5310 1.0000 10.0000 0.0034\n",
      "======================================\n",
      "\n"
     ]
    }
   ],
   "source": [
    "print(\"Reaction times:\")\n",
    "print(AnovaRM(data=reaction_times, depvar=\"value\", subject=\"subject\", within=['variable']).fit())\n",
    "print(\"Error rates:\")\n",
    "print(AnovaRM(data=error_rates, depvar=\"value\", subject=\"subject\", within=['variable']).fit())"
   ]
  }
 ],
 "metadata": {
  "kernelspec": {
   "display_name": "Python 3.10.5 ('venv': venv)",
   "language": "python",
   "name": "python3"
  },
  "language_info": {
   "codemirror_mode": {
    "name": "ipython",
    "version": 3
   },
   "file_extension": ".py",
   "mimetype": "text/x-python",
   "name": "python",
   "nbconvert_exporter": "python",
   "pygments_lexer": "ipython3",
   "version": "3.10.5"
  },
  "orig_nbformat": 4,
  "vscode": {
   "interpreter": {
    "hash": "6a05a56568b3360b44bc7e2de2c6e81d80d56995c7f7257222e51d63f128813a"
   }
  }
 },
 "nbformat": 4,
 "nbformat_minor": 2
}
